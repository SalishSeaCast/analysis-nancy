{
 "cells": [
  {
   "cell_type": "markdown",
   "metadata": {},
   "source": [
    "This notebook will develope tools to calculate the pressure from the hydrostatic relation. "
   ]
  },
  {
   "cell_type": "code",
   "execution_count": 1,
   "metadata": {
    "collapsed": true
   },
   "outputs": [],
   "source": [
    "import netCDF4 as nc\n",
    "import numpy as np\n",
    "import matplotlib.pyplot as plt\n",
    "\n",
    "from salishsea_tools import viz_tools, psu_tools, grid_tools\n",
    "\n",
    "import gsw\n",
    "\n",
    "%matplotlib inline"
   ]
  },
  {
   "cell_type": "markdown",
   "metadata": {},
   "source": [
    "Plan: \n",
    "* Use hydrostatic approximation to calculate pressure:\n",
    "$ \\frac{\\partial p}{\\partial z} = -\\rho g $ \n",
    "with $p(z=0) = 0$\n",
    "* For now, calculate density with the function Susan gave me. How should this change with TEOS-10?\n",
    "* To enforce $p(z=0)=0$, I think it is best to interpolate rho onto w grid and then integrate for pressure with upper BC and then interpolate back to t grid "
   ]
  },
  {
   "cell_type": "markdown",
   "metadata": {},
   "source": [
    "# Loading"
   ]
  },
  {
   "cell_type": "code",
   "execution_count": 2,
   "metadata": {
    "collapsed": false
   },
   "outputs": [],
   "source": [
    "mesh_mask = nc.Dataset('/data/nsoontie/MEOPAR/NEMO-forcing/grid/mesh_mask_SalishSea2.nc')\n",
    "grid = nc.Dataset('/data/nsoontie/MEOPAR/NEMO-forcing/grid/bathy_meter_SalishSea2.nc')\n",
    "\n",
    "bathy = grid.variables['Bathymetry'][:]\n",
    "# Sample file for testing calculations\n",
    "fT = nc.Dataset('/results/SalishSea/nowcast/01apr15/SalishSea_1h_20150401_20150401_grid_T.nc')"
   ]
  },
  {
   "cell_type": "code",
   "execution_count": 3,
   "metadata": {
    "collapsed": true
   },
   "outputs": [],
   "source": [
    "tmask = mesh_mask.variables['tmask'][:]\n",
    "e3t_0 = mesh_mask.variables['e3t'][:]\n",
    "gdept_0 = mesh_mask.variables['gdept'][:]\n",
    "gdepw_0 = mesh_mask.variables['gdepw'][:]"
   ]
  },
  {
   "cell_type": "code",
   "execution_count": 4,
   "metadata": {
    "collapsed": true
   },
   "outputs": [],
   "source": [
    "ssh = fT.variables['sossheig'][:]\n",
    "sal = fT.variables['vosaline'][:]\n",
    "temp = fT.variables['votemper'][:]\n",
    "rho = psu_tools.calculate_density(temp, sal)"
   ]
  },
  {
   "cell_type": "code",
   "execution_count": 6,
   "metadata": {
    "collapsed": false
   },
   "outputs": [
    {
     "name": "stderr",
     "output_type": "stream",
     "text": [
      "/data/nsoontie/MEOPAR/tools/SalishSeaTools/salishsea_tools/grid_tools.py:48: RuntimeWarning: invalid value encountered in true_divide\n",
      "  mu = sum_matrix/vn\n"
     ]
    }
   ],
   "source": [
    "grids = grid_tools.calculate_vertical_grids(e3t_0[0,...], tmask[0,...], ssh)"
   ]
  },
  {
   "cell_type": "code",
   "execution_count": 7,
   "metadata": {
    "collapsed": true
   },
   "outputs": [],
   "source": [
    "def calculate_pressure(rho, e3t_t, gdept_t, tmask):\n",
    "    \"\"\"Integrate density to calulate pressure.\n",
    "    Use time-dependent scale factors\n",
    "    \n",
    "    returns pressure in Pascals\"\"\"\n",
    "    g = 9.81 # is there a constant module that I an grab this from?\n",
    "    \n",
    "    # integrate density to get pressure\n",
    "    p = np.cumsum(g*rho*e3t_t*tmask, axis=1)\n",
    "    p = p - np.expand_dims(g*rho[:,0,...]*gdept_t[:,0,...], axis=1) # Attempt to approximate p(z=0)=0.\n",
    "    \n",
    "    return p\n",
    "    "
   ]
  },
  {
   "cell_type": "code",
   "execution_count": 8,
   "metadata": {
    "collapsed": false
   },
   "outputs": [],
   "source": [
    "t=2\n",
    "p_t = calculate_pressure(rho[0:t], grids['e3t_t'][0:t], grids['gdept_t'][0:t], tmask)"
   ]
  },
  {
   "cell_type": "code",
   "execution_count": 9,
   "metadata": {
    "collapsed": false
   },
   "outputs": [
    {
     "data": {
      "text/plain": [
       "array([   5081.97537416,   15264.71065816,   25504.05833731,\n",
       "         35771.60396324,   46046.96165661,   56320.31685063,\n",
       "         66586.84866391,   76844.68407262,   87094.80132038,\n",
       "         97340.56650632,  107589.17846981,  117855.13098334,\n",
       "        128167.18247194,  138581.89624688,  149209.30717496,\n",
       "        160262.41149617,  172151.62408805,  185664.02926869,\n",
       "        202286.49356069,  224749.78986749,  232328.09970387,\n",
       "        232328.09970387,  232328.09970387,  232328.09970387,\n",
       "        232328.09970387,  232328.09970387,  232328.09970387,\n",
       "        232328.09970387,  232328.09970387,  232328.09970387,\n",
       "        232328.09970387,  232328.09970387,  232328.09970387,\n",
       "        232328.09970387,  232328.09970387,  232328.09970387,\n",
       "        232328.09970387,  232328.09970387,  232328.09970387,\n",
       "        232328.09970387])"
      ]
     },
     "execution_count": 9,
     "metadata": {},
     "output_type": "execute_result"
    }
   ],
   "source": [
    "p_t[0,:,400,300]"
   ]
  },
  {
   "cell_type": "code",
   "execution_count": 10,
   "metadata": {
    "collapsed": false
   },
   "outputs": [
    {
     "data": {
      "text/plain": [
       "array([   0.52108837,    1.56256533,    2.60264199,    3.6413239 ,\n",
       "          4.67862189,    5.71455702,    6.74917031,    7.78254152,\n",
       "          8.81482584,    9.84632512,   10.87762643,   11.9098714 ,\n",
       "         12.94527957,   13.98816428,   15.04690083,   16.13772511,\n",
       "         17.29201181,   18.57001916,   20.08611348,   22.05246076,\n",
       "         23.56380259,   24.3259087 ,   28.73143521,   38.72458044,\n",
       "         52.8235531 ,   71.0291951 ,   92.62161427,  116.58029047,\n",
       "        142.00115683,  168.25650037,  194.96672563,  221.91924366,\n",
       "        248.99982402,  276.14841366,  303.33379866,  330.53984988,\n",
       "        357.75825781,  384.98474782,  412.2171223 ,  439.45425157])"
      ]
     },
     "execution_count": 10,
     "metadata": {},
     "output_type": "execute_result"
    }
   ],
   "source": [
    "lat = fT.variables['nav_lon'][:]\n",
    "p_gsw = gsw.p_from_z(-grids['gdept_t'][0:t], lat)\n",
    "p_gsw[0,:,400,300]"
   ]
  },
  {
   "cell_type": "code",
   "execution_count": 11,
   "metadata": {
    "collapsed": false
   },
   "outputs": [],
   "source": [
    "diff = (p_t*10**(-4) - p_gsw)*tmask"
   ]
  },
  {
   "cell_type": "code",
   "execution_count": 12,
   "metadata": {
    "collapsed": false
   },
   "outputs": [
    {
     "data": {
      "text/plain": [
       "array([-0.01289083, -0.03609426, -0.05223616, -0.06416351, -0.07392572,\n",
       "       -0.08252534, -0.09048544, -0.09807311, -0.10534571, -0.11226847,\n",
       "       -0.11870859, -0.1243583 , -0.12856132, -0.12997466, -0.12597011,\n",
       "       -0.11148396, -0.07684941, -0.00361623,  0.14253588,  0.42251823,\n",
       "       -0.33099262, -0.        , -0.        , -0.        , -0.        ,\n",
       "       -0.        , -0.        , -0.        , -0.        , -0.        ,\n",
       "       -0.        , -0.        , -0.        , -0.        , -0.        ,\n",
       "       -0.        , -0.        , -0.        , -0.        , -0.        ])"
      ]
     },
     "execution_count": 12,
     "metadata": {},
     "output_type": "execute_result"
    }
   ],
   "source": [
    "diff[0,:,400,300]"
   ]
  },
  {
   "cell_type": "code",
   "execution_count": null,
   "metadata": {
    "collapsed": true
   },
   "outputs": [],
   "source": []
  }
 ],
 "metadata": {
  "kernelspec": {
   "display_name": "Python 3",
   "language": "python",
   "name": "python3"
  },
  "language_info": {
   "codemirror_mode": {
    "name": "ipython",
    "version": 3
   },
   "file_extension": ".py",
   "mimetype": "text/x-python",
   "name": "python",
   "nbconvert_exporter": "python",
   "pygments_lexer": "ipython3",
   "version": "3.5.2"
  }
 },
 "nbformat": 4,
 "nbformat_minor": 0
}
