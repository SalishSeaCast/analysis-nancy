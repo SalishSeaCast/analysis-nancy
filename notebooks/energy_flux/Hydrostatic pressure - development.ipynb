{
 "cells": [
  {
   "cell_type": "markdown",
   "metadata": {},
   "source": [
    "This notebook will develope tools to calculate the pressure from the hydrostatic relation. "
   ]
  },
  {
   "cell_type": "code",
   "execution_count": 1,
   "metadata": {
    "collapsed": true
   },
   "outputs": [],
   "source": [
    "import netCDF4 as nc\n",
    "import numpy as np\n",
    "import matplotlib.pyplot as plt\n",
    "\n",
    "from nowcast import analyze\n",
    "from salishsea_tools import viz_tools, psu_tools\n",
    "\n",
    "import grid_time\n",
    "import gsw\n",
    "\n",
    "%matplotlib inline"
   ]
  },
  {
   "cell_type": "markdown",
   "metadata": {},
   "source": [
    "Plan: \n",
    "* Use hydrostatic approximation to calculate pressure:\n",
    "$ \\frac{\\partial p}{\\partial z} = -\\rho g $ \n",
    "with $p(z=0) = 0$\n",
    "* For now, calculate density with the function Susan gave me. How should this change with TEOS-10?\n",
    "* To enforce $p(z=0)=0$, I think it is best to interpolate rho onto w grid and then integrate for pressure with upper BC and then interpolate back to t grid "
   ]
  },
  {
   "cell_type": "markdown",
   "metadata": {},
   "source": [
    "# Loading"
   ]
  },
  {
   "cell_type": "code",
   "execution_count": 2,
   "metadata": {
    "collapsed": false
   },
   "outputs": [],
   "source": [
    "mesh_mask = nc.Dataset('/data/nsoontie/MEOPAR/NEMO-forcing/grid/mesh_mask_SalishSea2.nc')\n",
    "grid = nc.Dataset('/data/nsoontie/MEOPAR/NEMO-forcing/grid/bathy_meter_SalishSea2.nc')\n",
    "\n",
    "bathy = grid.variables['Bathymetry'][:]\n",
    "# Sample file for testing calculations\n",
    "fT = nc.Dataset('/results/SalishSea/nowcast/01apr15/SalishSea_1h_20150401_20150401_grid_T.nc')"
   ]
  },
  {
   "cell_type": "code",
   "execution_count": 3,
   "metadata": {
    "collapsed": true
   },
   "outputs": [],
   "source": [
    "tmask = mesh_mask.variables['tmask'][:]\n",
    "e3t_0 = mesh_mask.variables['e3t'][:]\n",
    "gdept_0 = mesh_mask.variables['gdept'][:]\n",
    "gdepw_0 = mesh_mask.variables['gdepw'][:]"
   ]
  },
  {
   "cell_type": "code",
   "execution_count": 4,
   "metadata": {
    "collapsed": true
   },
   "outputs": [],
   "source": [
    "ssh = fT.variables['sossheig'][:]\n",
    "sal = fT.variables['vosaline'][:]\n",
    "temp = fT.variables['votemper'][:]\n",
    "rho = psu_tools.calculate_density(temp, sal)"
   ]
  },
  {
   "cell_type": "code",
   "execution_count": 5,
   "metadata": {
    "collapsed": false
   },
   "outputs": [],
   "source": [
    "e3t_t, e3w_t, gdept_t, gdepw_t = grid_time.calculate_vertical_grids(e3t_0[0,...], tmask[0,...], ssh)"
   ]
  },
  {
   "cell_type": "code",
   "execution_count": 6,
   "metadata": {
    "collapsed": true
   },
   "outputs": [],
   "source": [
    "def interp_depth_time_dependent(var, depth, depth_int):\n",
    "    var_int = np.zeros(var.shape)\n",
    "    for t in np.arange(var_int.shape[0]):\n",
    "        for j in np.arange(var_int.shape[2]):\n",
    "            for i in np.arange(var_int.shape[3]):\n",
    "                var_int[t,:,j,i] = np.interp(depth_int[t,:,j,i], depth[t,:,j,i], var[t,:,j,i],right = np.nan)\n",
    "    return var_int"
   ]
  },
  {
   "cell_type": "code",
   "execution_count": 7,
   "metadata": {
    "collapsed": true
   },
   "outputs": [],
   "source": [
    "def calculate_pressure(rho, e3w_t, gdept_t, gdepw_t, tmask):\n",
    "    \"\"\"Integrate density to calulate pressure.\n",
    "    Use time-dependent scale factors\"\"\"\n",
    "    g = 9.81 # is there a constant module that I an grab this from?\n",
    "    \n",
    "    # Integrate density to w-levels\n",
    "    rho_m = np.ma.array(rho, mask = np.ones(rho.shape)-tmask) \n",
    "    gdept_m =  np.ma.array(gdept_t, mask = np.ones(rho.shape) - tmask)\n",
    "    gdepw_m =  np.ma.array(gdepw_t, mask = np.ones(rho.shape) - tmask)\n",
    "    rho_w = interp_depth_time_dependent(rho_m, gdept_m, gdepw_m)\n",
    "    # integrate density to get pressure\n",
    "    p = np.cumsum(rho_w*e3w_t*tmask, axis=1)*tmask\n",
    "    p = p - np.expand_dims(p[:, 0, ...], axis=1)\n",
    "    # interp back onto t grids\n",
    "    p_t = interp_depth_time_dependent(p, gdepw_m, gdept_m)\n",
    "    \n",
    "    return p_t\n",
    "    "
   ]
  },
  {
   "cell_type": "code",
   "execution_count": 8,
   "metadata": {
    "collapsed": false
   },
   "outputs": [],
   "source": [
    "p_t = calculate_pressure(rho, e3w_t, gdept_t, gdepw_t, tmask)"
   ]
  },
  {
   "cell_type": "code",
   "execution_count": 9,
   "metadata": {
    "collapsed": false
   },
   "outputs": [
    {
     "data": {
      "text/plain": [
       "array([   518.52009916,   1557.48304459,   2600.52908689,   3646.65245417,\n",
       "         4693.84047739,   5740.95106667,   6787.44093108,   7833.11684329,\n",
       "         8878.06680522,   9922.67076825,  10967.75076421,  12014.96189082,\n",
       "        13067.58077898,  14132.02727517,  15220.77888209,  16357.955306  ,\n",
       "        17589.96062042,  19005.25806778,  20769.28113765,  22530.93184911,\n",
       "        11130.21872531,  -1036.08051487,  -1036.08051487,  -1036.08051487,\n",
       "        -1036.08051487,  -1036.08051487,  -1036.08051487,  -1036.08051487,\n",
       "        -1036.08051487,  -1036.08051487,  -1036.08051487,  -1036.08051487,\n",
       "        -1036.08051487,  -1036.08051487,  -1036.08051487,  -1036.08051487,\n",
       "        -1036.08051487,  -1036.08051487,  -1036.08051487,             nan])"
      ]
     },
     "execution_count": 9,
     "metadata": {},
     "output_type": "execute_result"
    }
   ],
   "source": [
    "p_t[0,:,400,300]"
   ]
  },
  {
   "cell_type": "code",
   "execution_count": null,
   "metadata": {
    "collapsed": true
   },
   "outputs": [],
   "source": []
  }
 ],
 "metadata": {
  "kernelspec": {
   "display_name": "Python 3",
   "language": "python",
   "name": "python3"
  },
  "language_info": {
   "codemirror_mode": {
    "name": "ipython",
    "version": 3
   },
   "file_extension": ".py",
   "mimetype": "text/x-python",
   "name": "python",
   "nbconvert_exporter": "python",
   "pygments_lexer": "ipython3",
   "version": "3.5.2"
  }
 },
 "nbformat": 4,
 "nbformat_minor": 0
}
