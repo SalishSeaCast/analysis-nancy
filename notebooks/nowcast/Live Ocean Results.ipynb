{
 "cells": [
  {
   "cell_type": "markdown",
   "metadata": {},
   "source": [
    "Notebook to explore Live Ocean results from Parker MacCready and group (http://faculty.washington.edu/pmacc/LO/LiveOcean.html). Goal is to determine a region for extracting boundary conditions."
   ]
  },
  {
   "cell_type": "code",
   "execution_count": 1,
   "metadata": {
    "collapsed": true
   },
   "outputs": [],
   "source": [
    "import netCDF4 as nc\n",
    "import matplotlib.pyplot as plt\n",
    "\n",
    "from salishsea_tools import viz_tools\n",
    "\n",
    "%matplotlib inline"
   ]
  },
  {
   "cell_type": "code",
   "execution_count": 2,
   "metadata": {
    "collapsed": false
   },
   "outputs": [],
   "source": [
    "f = nc.Dataset('/data/nsoontie/MEOPAR/LiveOcean/20160608/ocean_his_0002.nc')"
   ]
  },
  {
   "cell_type": "code",
   "execution_count": 3,
   "metadata": {
    "collapsed": false
   },
   "outputs": [
    {
     "data": {
      "text/plain": [
       "OrderedDict([('ntimes', <class 'netCDF4._netCDF4.Variable'>\n",
       "              int32 ntimes()\n",
       "                  long_name: number of long time-steps\n",
       "              unlimited dimensions: \n",
       "              current shape = ()\n",
       "              filling off), ('ndtfast', <class 'netCDF4._netCDF4.Variable'>\n",
       "              int32 ndtfast()\n",
       "                  long_name: number of short time-steps\n",
       "              unlimited dimensions: \n",
       "              current shape = ()\n",
       "              filling off), ('dt', <class 'netCDF4._netCDF4.Variable'>\n",
       "              float64 dt()\n",
       "                  long_name: size of long time-steps\n",
       "                  units: second\n",
       "              unlimited dimensions: \n",
       "              current shape = ()\n",
       "              filling off), ('dtfast', <class 'netCDF4._netCDF4.Variable'>\n",
       "              float64 dtfast()\n",
       "                  long_name: size of short time-steps\n",
       "                  units: second\n",
       "              unlimited dimensions: \n",
       "              current shape = ()\n",
       "              filling off), ('dstart', <class 'netCDF4._netCDF4.Variable'>\n",
       "              float64 dstart()\n",
       "                  long_name: time stamp assigned to model initilization\n",
       "                  units: days since 1970-01-01 00:00:00\n",
       "              unlimited dimensions: \n",
       "              current shape = ()\n",
       "              filling off), ('nHIS', <class 'netCDF4._netCDF4.Variable'>\n",
       "              int32 nHIS()\n",
       "                  long_name: number of time-steps between history records\n",
       "              unlimited dimensions: \n",
       "              current shape = ()\n",
       "              filling off), ('ndefHIS', <class 'netCDF4._netCDF4.Variable'>\n",
       "              int32 ndefHIS()\n",
       "                  long_name: number of time-steps between the creation of history files\n",
       "              unlimited dimensions: \n",
       "              current shape = ()\n",
       "              filling off), ('nRST', <class 'netCDF4._netCDF4.Variable'>\n",
       "              int32 nRST()\n",
       "                  long_name: number of time-steps between restart records\n",
       "                  cycle: only latest two records are maintained\n",
       "              unlimited dimensions: \n",
       "              current shape = ()\n",
       "              filling off), ('Falpha', <class 'netCDF4._netCDF4.Variable'>\n",
       "              float64 Falpha()\n",
       "                  long_name: Power-law shape barotropic filter parameter\n",
       "              unlimited dimensions: \n",
       "              current shape = ()\n",
       "              filling off), ('Fbeta', <class 'netCDF4._netCDF4.Variable'>\n",
       "              float64 Fbeta()\n",
       "                  long_name: Power-law shape barotropic filter parameter\n",
       "              unlimited dimensions: \n",
       "              current shape = ()\n",
       "              filling off), ('Fgamma', <class 'netCDF4._netCDF4.Variable'>\n",
       "              float64 Fgamma()\n",
       "                  long_name: Power-law shape barotropic filter parameter\n",
       "              unlimited dimensions: \n",
       "              current shape = ()\n",
       "              filling off), ('nl_tnu2', <class 'netCDF4._netCDF4.Variable'>\n",
       "              float64 nl_tnu2(tracer)\n",
       "                  long_name: nonlinear model Laplacian mixing coefficient for tracers\n",
       "                  units: meter2 second-1\n",
       "              unlimited dimensions: \n",
       "              current shape = (2,)\n",
       "              filling off), ('LtracerSponge',\n",
       "              <class 'netCDF4._netCDF4.Variable'>\n",
       "              int32 LtracerSponge(tracer)\n",
       "                  long_name: horizontal diffusivity sponge activation switch\n",
       "                  flag_values: [0 1]\n",
       "                  flag_meanings: .FALSE. .TRUE.\n",
       "              unlimited dimensions: \n",
       "              current shape = (2,)\n",
       "              filling off), ('Akt_bak', <class 'netCDF4._netCDF4.Variable'>\n",
       "              float64 Akt_bak(tracer)\n",
       "                  long_name: background vertical mixing coefficient for tracers\n",
       "                  units: meter2 second-1\n",
       "              unlimited dimensions: \n",
       "              current shape = (2,)\n",
       "              filling off), ('Akv_bak', <class 'netCDF4._netCDF4.Variable'>\n",
       "              float64 Akv_bak()\n",
       "                  long_name: background vertical mixing coefficient for momentum\n",
       "                  units: meter2 second-1\n",
       "              unlimited dimensions: \n",
       "              current shape = ()\n",
       "              filling off), ('Akk_bak', <class 'netCDF4._netCDF4.Variable'>\n",
       "              float64 Akk_bak()\n",
       "                  long_name: background vertical mixing coefficient for turbulent energy\n",
       "                  units: meter2 second-1\n",
       "              unlimited dimensions: \n",
       "              current shape = ()\n",
       "              filling off), ('Akp_bak', <class 'netCDF4._netCDF4.Variable'>\n",
       "              float64 Akp_bak()\n",
       "                  long_name: background vertical mixing coefficient for length scale\n",
       "                  units: meter2 second-1\n",
       "              unlimited dimensions: \n",
       "              current shape = ()\n",
       "              filling off), ('rdrg', <class 'netCDF4._netCDF4.Variable'>\n",
       "              float64 rdrg()\n",
       "                  long_name: linear drag coefficient\n",
       "                  units: meter second-1\n",
       "              unlimited dimensions: \n",
       "              current shape = ()\n",
       "              filling off), ('rdrg2', <class 'netCDF4._netCDF4.Variable'>\n",
       "              float64 rdrg2()\n",
       "                  long_name: quadratic drag coefficient\n",
       "              unlimited dimensions: \n",
       "              current shape = ()\n",
       "              filling off), ('Zob', <class 'netCDF4._netCDF4.Variable'>\n",
       "              float64 Zob()\n",
       "                  long_name: bottom roughness\n",
       "                  units: meter\n",
       "              unlimited dimensions: \n",
       "              current shape = ()\n",
       "              filling off), ('Zos', <class 'netCDF4._netCDF4.Variable'>\n",
       "              float64 Zos()\n",
       "                  long_name: surface roughness\n",
       "                  units: meter\n",
       "              unlimited dimensions: \n",
       "              current shape = ()\n",
       "              filling off), ('gls_p', <class 'netCDF4._netCDF4.Variable'>\n",
       "              float64 gls_p()\n",
       "                  long_name: stability exponent\n",
       "              unlimited dimensions: \n",
       "              current shape = ()\n",
       "              filling off), ('gls_m', <class 'netCDF4._netCDF4.Variable'>\n",
       "              float64 gls_m()\n",
       "                  long_name: turbulent kinetic energy exponent\n",
       "              unlimited dimensions: \n",
       "              current shape = ()\n",
       "              filling off), ('gls_n', <class 'netCDF4._netCDF4.Variable'>\n",
       "              float64 gls_n()\n",
       "                  long_name: turbulent length scale exponent\n",
       "              unlimited dimensions: \n",
       "              current shape = ()\n",
       "              filling off), ('gls_cmu0', <class 'netCDF4._netCDF4.Variable'>\n",
       "              float64 gls_cmu0()\n",
       "                  long_name: stability coefficient\n",
       "              unlimited dimensions: \n",
       "              current shape = ()\n",
       "              filling off), ('gls_c1', <class 'netCDF4._netCDF4.Variable'>\n",
       "              float64 gls_c1()\n",
       "                  long_name: shear production coefficient\n",
       "              unlimited dimensions: \n",
       "              current shape = ()\n",
       "              filling off), ('gls_c2', <class 'netCDF4._netCDF4.Variable'>\n",
       "              float64 gls_c2()\n",
       "                  long_name: dissipation coefficient\n",
       "              unlimited dimensions: \n",
       "              current shape = ()\n",
       "              filling off), ('gls_c3m', <class 'netCDF4._netCDF4.Variable'>\n",
       "              float64 gls_c3m()\n",
       "                  long_name: buoyancy production coefficient (minus)\n",
       "              unlimited dimensions: \n",
       "              current shape = ()\n",
       "              filling off), ('gls_c3p', <class 'netCDF4._netCDF4.Variable'>\n",
       "              float64 gls_c3p()\n",
       "                  long_name: buoyancy production coefficient (plus)\n",
       "              unlimited dimensions: \n",
       "              current shape = ()\n",
       "              filling off), ('gls_sigk', <class 'netCDF4._netCDF4.Variable'>\n",
       "              float64 gls_sigk()\n",
       "                  long_name: constant Schmidt number for TKE\n",
       "              unlimited dimensions: \n",
       "              current shape = ()\n",
       "              filling off), ('gls_sigp', <class 'netCDF4._netCDF4.Variable'>\n",
       "              float64 gls_sigp()\n",
       "                  long_name: constant Schmidt number for PSI\n",
       "              unlimited dimensions: \n",
       "              current shape = ()\n",
       "              filling off), ('gls_Kmin', <class 'netCDF4._netCDF4.Variable'>\n",
       "              float64 gls_Kmin()\n",
       "                  long_name: minimum value of specific turbulent kinetic energy\n",
       "              unlimited dimensions: \n",
       "              current shape = ()\n",
       "              filling off), ('gls_Pmin', <class 'netCDF4._netCDF4.Variable'>\n",
       "              float64 gls_Pmin()\n",
       "                  long_name: minimum Value of dissipation\n",
       "              unlimited dimensions: \n",
       "              current shape = ()\n",
       "              filling off), ('Charnok_alpha',\n",
       "              <class 'netCDF4._netCDF4.Variable'>\n",
       "              float64 Charnok_alpha()\n",
       "                  long_name: Charnok factor for surface roughness\n",
       "              unlimited dimensions: \n",
       "              current shape = ()\n",
       "              filling off), ('Zos_hsig_alpha',\n",
       "              <class 'netCDF4._netCDF4.Variable'>\n",
       "              float64 Zos_hsig_alpha()\n",
       "                  long_name: wave amplitude factor for surface roughness\n",
       "              unlimited dimensions: \n",
       "              current shape = ()\n",
       "              filling off), ('sz_alpha', <class 'netCDF4._netCDF4.Variable'>\n",
       "              float64 sz_alpha()\n",
       "                  long_name: surface flux from wave dissipation\n",
       "              unlimited dimensions: \n",
       "              current shape = ()\n",
       "              filling off), ('CrgBan_cw', <class 'netCDF4._netCDF4.Variable'>\n",
       "              float64 CrgBan_cw()\n",
       "                  long_name: surface flux due to Craig and Banner wave breaking\n",
       "              unlimited dimensions: \n",
       "              current shape = ()\n",
       "              filling off), ('Znudg', <class 'netCDF4._netCDF4.Variable'>\n",
       "              float64 Znudg()\n",
       "                  long_name: free-surface nudging/relaxation inverse time scale\n",
       "                  units: day-1\n",
       "              unlimited dimensions: \n",
       "              current shape = ()\n",
       "              filling off), ('M2nudg', <class 'netCDF4._netCDF4.Variable'>\n",
       "              float64 M2nudg()\n",
       "                  long_name: 2D momentum nudging/relaxation inverse time scale\n",
       "                  units: day-1\n",
       "              unlimited dimensions: \n",
       "              current shape = ()\n",
       "              filling off), ('M3nudg', <class 'netCDF4._netCDF4.Variable'>\n",
       "              float64 M3nudg()\n",
       "                  long_name: 3D momentum nudging/relaxation inverse time scale\n",
       "                  units: day-1\n",
       "              unlimited dimensions: \n",
       "              current shape = ()\n",
       "              filling off), ('Tnudg', <class 'netCDF4._netCDF4.Variable'>\n",
       "              float64 Tnudg(tracer)\n",
       "                  long_name: Tracers nudging/relaxation inverse time scale\n",
       "                  units: day-1\n",
       "              unlimited dimensions: \n",
       "              current shape = (2,)\n",
       "              filling off), ('FSobc_in', <class 'netCDF4._netCDF4.Variable'>\n",
       "              float64 FSobc_in(boundary)\n",
       "                  long_name: free-surface inflow, nudging inverse time scale\n",
       "                  units: second-1\n",
       "              unlimited dimensions: \n",
       "              current shape = (4,)\n",
       "              filling off), ('FSobc_out', <class 'netCDF4._netCDF4.Variable'>\n",
       "              float64 FSobc_out(boundary)\n",
       "                  long_name: free-surface outflow, nudging inverse time scale\n",
       "                  units: second-1\n",
       "              unlimited dimensions: \n",
       "              current shape = (4,)\n",
       "              filling off), ('M2obc_in', <class 'netCDF4._netCDF4.Variable'>\n",
       "              float64 M2obc_in(boundary)\n",
       "                  long_name: 2D momentum inflow, nudging inverse time scale\n",
       "                  units: second-1\n",
       "              unlimited dimensions: \n",
       "              current shape = (4,)\n",
       "              filling off), ('M2obc_out', <class 'netCDF4._netCDF4.Variable'>\n",
       "              float64 M2obc_out(boundary)\n",
       "                  long_name: 2D momentum outflow, nudging inverse time scale\n",
       "                  units: second-1\n",
       "              unlimited dimensions: \n",
       "              current shape = (4,)\n",
       "              filling off), ('Tobc_in', <class 'netCDF4._netCDF4.Variable'>\n",
       "              float64 Tobc_in(boundary, tracer)\n",
       "                  long_name: tracers inflow, nudging inverse time scale\n",
       "                  units: second-1\n",
       "              unlimited dimensions: \n",
       "              current shape = (4, 2)\n",
       "              filling off), ('Tobc_out', <class 'netCDF4._netCDF4.Variable'>\n",
       "              float64 Tobc_out(boundary, tracer)\n",
       "                  long_name: tracers outflow, nudging inverse time scale\n",
       "                  units: second-1\n",
       "              unlimited dimensions: \n",
       "              current shape = (4, 2)\n",
       "              filling off), ('M3obc_in', <class 'netCDF4._netCDF4.Variable'>\n",
       "              float64 M3obc_in(boundary)\n",
       "                  long_name: 3D momentum inflow, nudging inverse time scale\n",
       "                  units: second-1\n",
       "              unlimited dimensions: \n",
       "              current shape = (4,)\n",
       "              filling off), ('M3obc_out', <class 'netCDF4._netCDF4.Variable'>\n",
       "              float64 M3obc_out(boundary)\n",
       "                  long_name: 3D momentum outflow, nudging inverse time scale\n",
       "                  units: second-1\n",
       "              unlimited dimensions: \n",
       "              current shape = (4,)\n",
       "              filling off), ('rho0', <class 'netCDF4._netCDF4.Variable'>\n",
       "              float64 rho0()\n",
       "                  long_name: mean density used in Boussinesq approximation\n",
       "                  units: kilogram meter-3\n",
       "              unlimited dimensions: \n",
       "              current shape = ()\n",
       "              filling off), ('gamma2', <class 'netCDF4._netCDF4.Variable'>\n",
       "              float64 gamma2()\n",
       "                  long_name: slipperiness parameter\n",
       "              unlimited dimensions: \n",
       "              current shape = ()\n",
       "              filling off), ('LuvSrc', <class 'netCDF4._netCDF4.Variable'>\n",
       "              int32 LuvSrc()\n",
       "                  long_name: momentum point sources and sink activation switch\n",
       "                  flag_values: [0 1]\n",
       "                  flag_meanings: .FALSE. .TRUE.\n",
       "              unlimited dimensions: \n",
       "              current shape = ()\n",
       "              filling off), ('LwSrc', <class 'netCDF4._netCDF4.Variable'>\n",
       "              int32 LwSrc()\n",
       "                  long_name: mass point sources and sink activation switch\n",
       "                  flag_values: [0 1]\n",
       "                  flag_meanings: .FALSE. .TRUE.\n",
       "              unlimited dimensions: \n",
       "              current shape = ()\n",
       "              filling off), ('LtracerSrc', <class 'netCDF4._netCDF4.Variable'>\n",
       "              int32 LtracerSrc(tracer)\n",
       "                  long_name: tracer point sources and sink activation switch\n",
       "                  flag_values: [0 1]\n",
       "                  flag_meanings: .FALSE. .TRUE.\n",
       "              unlimited dimensions: \n",
       "              current shape = (2,)\n",
       "              filling off), ('LsshCLM', <class 'netCDF4._netCDF4.Variable'>\n",
       "              int32 LsshCLM()\n",
       "                  long_name: sea surface height climatology processing switch\n",
       "                  flag_values: [0 1]\n",
       "                  flag_meanings: .FALSE. .TRUE.\n",
       "              unlimited dimensions: \n",
       "              current shape = ()\n",
       "              filling off), ('Lm2CLM', <class 'netCDF4._netCDF4.Variable'>\n",
       "              int32 Lm2CLM()\n",
       "                  long_name: 2D momentum climatology processing switch\n",
       "                  flag_values: [0 1]\n",
       "                  flag_meanings: .FALSE. .TRUE.\n",
       "              unlimited dimensions: \n",
       "              current shape = ()\n",
       "              filling off), ('Lm3CLM', <class 'netCDF4._netCDF4.Variable'>\n",
       "              int32 Lm3CLM()\n",
       "                  long_name: 3D momentum climatology processing switch\n",
       "                  flag_values: [0 1]\n",
       "                  flag_meanings: .FALSE. .TRUE.\n",
       "              unlimited dimensions: \n",
       "              current shape = ()\n",
       "              filling off), ('LtracerCLM', <class 'netCDF4._netCDF4.Variable'>\n",
       "              int32 LtracerCLM(tracer)\n",
       "                  long_name: tracer climatology processing switch\n",
       "                  flag_values: [0 1]\n",
       "                  flag_meanings: .FALSE. .TRUE.\n",
       "              unlimited dimensions: \n",
       "              current shape = (2,)\n",
       "              filling off), ('LnudgeM2CLM', <class 'netCDF4._netCDF4.Variable'>\n",
       "              int32 LnudgeM2CLM()\n",
       "                  long_name: 2D momentum climatology nudging activation switch\n",
       "                  flag_values: [0 1]\n",
       "                  flag_meanings: .FALSE. .TRUE.\n",
       "              unlimited dimensions: \n",
       "              current shape = ()\n",
       "              filling off), ('LnudgeM3CLM', <class 'netCDF4._netCDF4.Variable'>\n",
       "              int32 LnudgeM3CLM()\n",
       "                  long_name: 3D momentum climatology nudging activation switch\n",
       "                  flag_values: [0 1]\n",
       "                  flag_meanings: .FALSE. .TRUE.\n",
       "              unlimited dimensions: \n",
       "              current shape = ()\n",
       "              filling off), ('LnudgeTCLM', <class 'netCDF4._netCDF4.Variable'>\n",
       "              int32 LnudgeTCLM(tracer)\n",
       "                  long_name: tracer climatology nudging activation switch\n",
       "                  flag_values: [0 1]\n",
       "                  flag_meanings: .FALSE. .TRUE.\n",
       "              unlimited dimensions: \n",
       "              current shape = (2,)\n",
       "              filling off), ('spherical', <class 'netCDF4._netCDF4.Variable'>\n",
       "              int32 spherical()\n",
       "                  long_name: grid type logical switch\n",
       "                  flag_values: [0 1]\n",
       "                  flag_meanings: Cartesian spherical\n",
       "              unlimited dimensions: \n",
       "              current shape = ()\n",
       "              filling off), ('xl', <class 'netCDF4._netCDF4.Variable'>\n",
       "              float64 xl()\n",
       "                  long_name: domain length in the XI-direction\n",
       "                  units: meter\n",
       "              unlimited dimensions: \n",
       "              current shape = ()\n",
       "              filling off), ('el', <class 'netCDF4._netCDF4.Variable'>\n",
       "              float64 el()\n",
       "                  long_name: domain length in the ETA-direction\n",
       "                  units: meter\n",
       "              unlimited dimensions: \n",
       "              current shape = ()\n",
       "              filling off), ('Vtransform', <class 'netCDF4._netCDF4.Variable'>\n",
       "              int32 Vtransform()\n",
       "                  long_name: vertical terrain-following transformation equation\n",
       "              unlimited dimensions: \n",
       "              current shape = ()\n",
       "              filling off), ('Vstretching', <class 'netCDF4._netCDF4.Variable'>\n",
       "              int32 Vstretching()\n",
       "                  long_name: vertical terrain-following stretching function\n",
       "              unlimited dimensions: \n",
       "              current shape = ()\n",
       "              filling off), ('theta_s', <class 'netCDF4._netCDF4.Variable'>\n",
       "              float64 theta_s()\n",
       "                  long_name: S-coordinate surface control parameter\n",
       "              unlimited dimensions: \n",
       "              current shape = ()\n",
       "              filling off), ('theta_b', <class 'netCDF4._netCDF4.Variable'>\n",
       "              float64 theta_b()\n",
       "                  long_name: S-coordinate bottom control parameter\n",
       "              unlimited dimensions: \n",
       "              current shape = ()\n",
       "              filling off), ('Tcline', <class 'netCDF4._netCDF4.Variable'>\n",
       "              float64 Tcline()\n",
       "                  long_name: S-coordinate surface/bottom layer width\n",
       "                  units: meter\n",
       "              unlimited dimensions: \n",
       "              current shape = ()\n",
       "              filling off), ('hc', <class 'netCDF4._netCDF4.Variable'>\n",
       "              float64 hc()\n",
       "                  long_name: S-coordinate parameter, critical depth\n",
       "                  units: meter\n",
       "              unlimited dimensions: \n",
       "              current shape = ()\n",
       "              filling off), ('s_rho', <class 'netCDF4._netCDF4.Variable'>\n",
       "              float64 s_rho(s_rho)\n",
       "                  long_name: S-coordinate at RHO-points\n",
       "                  valid_min: -1.0\n",
       "                  valid_max: 0.0\n",
       "                  positive: up\n",
       "                  standard_name: ocean_s_coordinate_g1\n",
       "                  formula_terms: s: s_rho C: Cs_r eta: zeta depth: h depth_c: hc\n",
       "                  field: s_rho, scalar\n",
       "              unlimited dimensions: \n",
       "              current shape = (40,)\n",
       "              filling off), ('s_w', <class 'netCDF4._netCDF4.Variable'>\n",
       "              float64 s_w(s_w)\n",
       "                  long_name: S-coordinate at W-points\n",
       "                  valid_min: -1.0\n",
       "                  valid_max: 0.0\n",
       "                  positive: up\n",
       "                  standard_name: ocean_s_coordinate_g1\n",
       "                  formula_terms: s: s_w C: Cs_w eta: zeta depth: h depth_c: hc\n",
       "                  field: s_w, scalar\n",
       "              unlimited dimensions: \n",
       "              current shape = (41,)\n",
       "              filling off), ('Cs_r', <class 'netCDF4._netCDF4.Variable'>\n",
       "              float64 Cs_r(s_rho)\n",
       "                  long_name: S-coordinate stretching curves at RHO-points\n",
       "                  valid_min: -1.0\n",
       "                  valid_max: 0.0\n",
       "                  field: Cs_r, scalar\n",
       "              unlimited dimensions: \n",
       "              current shape = (40,)\n",
       "              filling off), ('Cs_w', <class 'netCDF4._netCDF4.Variable'>\n",
       "              float64 Cs_w(s_w)\n",
       "                  long_name: S-coordinate stretching curves at W-points\n",
       "                  valid_min: -1.0\n",
       "                  valid_max: 0.0\n",
       "                  field: Cs_w, scalar\n",
       "              unlimited dimensions: \n",
       "              current shape = (41,)\n",
       "              filling off), ('h', <class 'netCDF4._netCDF4.Variable'>\n",
       "              float64 h(eta_rho, xi_rho)\n",
       "                  long_name: bathymetry at RHO-points\n",
       "                  units: meter\n",
       "                  coordinates: lon_rho lat_rho\n",
       "                  field: bath, scalar\n",
       "              unlimited dimensions: \n",
       "              current shape = (381, 174)\n",
       "              filling off), ('f', <class 'netCDF4._netCDF4.Variable'>\n",
       "              float64 f(eta_rho, xi_rho)\n",
       "                  long_name: Coriolis parameter at RHO-points\n",
       "                  units: second-1\n",
       "                  coordinates: lon_rho lat_rho\n",
       "                  field: coriolis, scalar\n",
       "              unlimited dimensions: \n",
       "              current shape = (381, 174)\n",
       "              filling off), ('pm', <class 'netCDF4._netCDF4.Variable'>\n",
       "              float64 pm(eta_rho, xi_rho)\n",
       "                  long_name: curvilinear coordinate metric in XI\n",
       "                  units: meter-1\n",
       "                  coordinates: lon_rho lat_rho\n",
       "                  field: pm, scalar\n",
       "              unlimited dimensions: \n",
       "              current shape = (381, 174)\n",
       "              filling off), ('pn', <class 'netCDF4._netCDF4.Variable'>\n",
       "              float64 pn(eta_rho, xi_rho)\n",
       "                  long_name: curvilinear coordinate metric in ETA\n",
       "                  units: meter-1\n",
       "                  coordinates: lon_rho lat_rho\n",
       "                  field: pn, scalar\n",
       "              unlimited dimensions: \n",
       "              current shape = (381, 174)\n",
       "              filling off), ('lon_rho', <class 'netCDF4._netCDF4.Variable'>\n",
       "              float64 lon_rho(eta_rho, xi_rho)\n",
       "                  long_name: longitude of RHO-points\n",
       "                  units: degree_east\n",
       "                  standard_name: longitude\n",
       "                  field: lon_rho, scalar\n",
       "              unlimited dimensions: \n",
       "              current shape = (381, 174)\n",
       "              filling off), ('lat_rho', <class 'netCDF4._netCDF4.Variable'>\n",
       "              float64 lat_rho(eta_rho, xi_rho)\n",
       "                  long_name: latitude of RHO-points\n",
       "                  units: degree_north\n",
       "                  standard_name: latitude\n",
       "                  field: lat_rho, scalar\n",
       "              unlimited dimensions: \n",
       "              current shape = (381, 174)\n",
       "              filling off), ('lon_u', <class 'netCDF4._netCDF4.Variable'>\n",
       "              float64 lon_u(eta_u, xi_u)\n",
       "                  long_name: longitude of U-points\n",
       "                  units: degree_east\n",
       "                  standard_name: longitude\n",
       "                  field: lon_u, scalar\n",
       "              unlimited dimensions: \n",
       "              current shape = (381, 173)\n",
       "              filling off), ('lat_u', <class 'netCDF4._netCDF4.Variable'>\n",
       "              float64 lat_u(eta_u, xi_u)\n",
       "                  long_name: latitude of U-points\n",
       "                  units: degree_north\n",
       "                  standard_name: latitude\n",
       "                  field: lat_u, scalar\n",
       "              unlimited dimensions: \n",
       "              current shape = (381, 173)\n",
       "              filling off), ('lon_v', <class 'netCDF4._netCDF4.Variable'>\n",
       "              float64 lon_v(eta_v, xi_v)\n",
       "                  long_name: longitude of V-points\n",
       "                  units: degree_east\n",
       "                  standard_name: longitude\n",
       "                  field: lon_v, scalar\n",
       "              unlimited dimensions: \n",
       "              current shape = (380, 174)\n",
       "              filling off), ('lat_v', <class 'netCDF4._netCDF4.Variable'>\n",
       "              float64 lat_v(eta_v, xi_v)\n",
       "                  long_name: latitude of V-points\n",
       "                  units: degree_north\n",
       "                  standard_name: latitude\n",
       "                  field: lat_v, scalar\n",
       "              unlimited dimensions: \n",
       "              current shape = (380, 174)\n",
       "              filling off), ('lon_psi', <class 'netCDF4._netCDF4.Variable'>\n",
       "              float64 lon_psi(eta_psi, xi_psi)\n",
       "                  long_name: longitude of PSI-points\n",
       "                  units: degree_east\n",
       "                  standard_name: longitude\n",
       "                  field: lon_psi, scalar\n",
       "              unlimited dimensions: \n",
       "              current shape = (380, 173)\n",
       "              filling off), ('lat_psi', <class 'netCDF4._netCDF4.Variable'>\n",
       "              float64 lat_psi(eta_psi, xi_psi)\n",
       "                  long_name: latitude of PSI-points\n",
       "                  units: degree_north\n",
       "                  standard_name: latitude\n",
       "                  field: lat_psi, scalar\n",
       "              unlimited dimensions: \n",
       "              current shape = (380, 173)\n",
       "              filling off), ('mask_rho', <class 'netCDF4._netCDF4.Variable'>\n",
       "              float64 mask_rho(eta_rho, xi_rho)\n",
       "                  long_name: mask on RHO-points\n",
       "                  flag_values: [ 0.  1.]\n",
       "                  flag_meanings: land water\n",
       "                  coordinates: lon_rho lat_rho\n",
       "              unlimited dimensions: \n",
       "              current shape = (381, 174)\n",
       "              filling off), ('mask_u', <class 'netCDF4._netCDF4.Variable'>\n",
       "              float64 mask_u(eta_u, xi_u)\n",
       "                  long_name: mask on U-points\n",
       "                  flag_values: [ 0.  1.]\n",
       "                  flag_meanings: land water\n",
       "                  coordinates: lon_u lat_u\n",
       "              unlimited dimensions: \n",
       "              current shape = (381, 173)\n",
       "              filling off), ('mask_v', <class 'netCDF4._netCDF4.Variable'>\n",
       "              float64 mask_v(eta_v, xi_v)\n",
       "                  long_name: mask on V-points\n",
       "                  flag_values: [ 0.  1.]\n",
       "                  flag_meanings: land water\n",
       "                  coordinates: lon_v lat_v\n",
       "              unlimited dimensions: \n",
       "              current shape = (380, 174)\n",
       "              filling off), ('mask_psi', <class 'netCDF4._netCDF4.Variable'>\n",
       "              float64 mask_psi(eta_psi, xi_psi)\n",
       "                  long_name: mask on psi-points\n",
       "                  flag_values: [ 0.  1.]\n",
       "                  flag_meanings: land water\n",
       "                  coordinates: lon_psi lat_psi\n",
       "              unlimited dimensions: \n",
       "              current shape = (380, 173)\n",
       "              filling off), ('ocean_time', <class 'netCDF4._netCDF4.Variable'>\n",
       "              float64 ocean_time(ocean_time)\n",
       "                  long_name: time since initialization\n",
       "                  units: seconds since 1970-01-01 00:00:00\n",
       "                  calendar: gregorian\n",
       "                  field: time, scalar, series\n",
       "              unlimited dimensions: ocean_time\n",
       "              current shape = (1,)\n",
       "              filling off), ('zeta', <class 'netCDF4._netCDF4.Variable'>\n",
       "              float32 zeta(ocean_time, eta_rho, xi_rho)\n",
       "                  long_name: free-surface\n",
       "                  units: meter\n",
       "                  time: ocean_time\n",
       "                  coordinates: lon_rho lat_rho ocean_time\n",
       "                  field: free-surface, scalar, series\n",
       "                  _FillValue: 1e+37\n",
       "              unlimited dimensions: ocean_time\n",
       "              current shape = (1, 381, 174)\n",
       "              filling off), ('ubar', <class 'netCDF4._netCDF4.Variable'>\n",
       "              float32 ubar(ocean_time, eta_u, xi_u)\n",
       "                  long_name: vertically integrated u-momentum component\n",
       "                  units: meter second-1\n",
       "                  time: ocean_time\n",
       "                  coordinates: lon_u lat_u ocean_time\n",
       "                  field: ubar-velocity, scalar, series\n",
       "                  _FillValue: 1e+37\n",
       "              unlimited dimensions: ocean_time\n",
       "              current shape = (1, 381, 173)\n",
       "              filling off), ('vbar', <class 'netCDF4._netCDF4.Variable'>\n",
       "              float32 vbar(ocean_time, eta_v, xi_v)\n",
       "                  long_name: vertically integrated v-momentum component\n",
       "                  units: meter second-1\n",
       "                  time: ocean_time\n",
       "                  coordinates: lon_v lat_v ocean_time\n",
       "                  field: vbar-velocity, scalar, series\n",
       "                  _FillValue: 1e+37\n",
       "              unlimited dimensions: ocean_time\n",
       "              current shape = (1, 380, 174)\n",
       "              filling off), ('u', <class 'netCDF4._netCDF4.Variable'>\n",
       "              float32 u(ocean_time, s_rho, eta_u, xi_u)\n",
       "                  long_name: u-momentum component\n",
       "                  units: meter second-1\n",
       "                  time: ocean_time\n",
       "                  coordinates: lon_u lat_u s_rho ocean_time\n",
       "                  field: u-velocity, scalar, series\n",
       "                  _FillValue: 1e+37\n",
       "              unlimited dimensions: ocean_time\n",
       "              current shape = (1, 40, 381, 173)\n",
       "              filling off), ('v', <class 'netCDF4._netCDF4.Variable'>\n",
       "              float32 v(ocean_time, s_rho, eta_v, xi_v)\n",
       "                  long_name: v-momentum component\n",
       "                  units: meter second-1\n",
       "                  time: ocean_time\n",
       "                  coordinates: lon_v lat_v s_rho ocean_time\n",
       "                  field: v-velocity, scalar, series\n",
       "                  _FillValue: 1e+37\n",
       "              unlimited dimensions: ocean_time\n",
       "              current shape = (1, 40, 380, 174)\n",
       "              filling off), ('w', <class 'netCDF4._netCDF4.Variable'>\n",
       "              float32 w(ocean_time, s_w, eta_rho, xi_rho)\n",
       "                  long_name: vertical momentum component\n",
       "                  units: meter second-1\n",
       "                  time: ocean_time\n",
       "                  coordinates: lon_rho lat_rho s_w ocean_time\n",
       "                  field: w-velocity, scalar, series\n",
       "                  _FillValue: 1e+37\n",
       "              unlimited dimensions: ocean_time\n",
       "              current shape = (1, 41, 381, 174)\n",
       "              filling off), ('temp', <class 'netCDF4._netCDF4.Variable'>\n",
       "              float32 temp(ocean_time, s_rho, eta_rho, xi_rho)\n",
       "                  long_name: potential temperature\n",
       "                  units: Celsius\n",
       "                  time: ocean_time\n",
       "                  coordinates: lon_rho lat_rho s_rho ocean_time\n",
       "                  field: temperature, scalar, series\n",
       "                  _FillValue: 1e+37\n",
       "              unlimited dimensions: ocean_time\n",
       "              current shape = (1, 40, 381, 174)\n",
       "              filling off), ('salt', <class 'netCDF4._netCDF4.Variable'>\n",
       "              float32 salt(ocean_time, s_rho, eta_rho, xi_rho)\n",
       "                  long_name: salinity\n",
       "                  time: ocean_time\n",
       "                  coordinates: lon_rho lat_rho s_rho ocean_time\n",
       "                  field: salinity, scalar, series\n",
       "                  _FillValue: 1e+37\n",
       "              unlimited dimensions: ocean_time\n",
       "              current shape = (1, 40, 381, 174)\n",
       "              filling off), ('rho', <class 'netCDF4._netCDF4.Variable'>\n",
       "              float32 rho(ocean_time, s_rho, eta_rho, xi_rho)\n",
       "                  long_name: density anomaly\n",
       "                  units: kilogram meter-3\n",
       "                  time: ocean_time\n",
       "                  coordinates: lon_rho lat_rho s_rho ocean_time\n",
       "                  field: density, scalar, series\n",
       "                  _FillValue: 1e+37\n",
       "              unlimited dimensions: ocean_time\n",
       "              current shape = (1, 40, 381, 174)\n",
       "              filling off), ('AKv', <class 'netCDF4._netCDF4.Variable'>\n",
       "              float32 AKv(ocean_time, s_w, eta_rho, xi_rho)\n",
       "                  long_name: vertical viscosity coefficient\n",
       "                  units: meter2 second-1\n",
       "                  time: ocean_time\n",
       "                  coordinates: lon_rho lat_rho s_w ocean_time\n",
       "                  field: AKv, scalar, series\n",
       "              unlimited dimensions: ocean_time\n",
       "              current shape = (1, 41, 381, 174)\n",
       "              filling off), ('AKs', <class 'netCDF4._netCDF4.Variable'>\n",
       "              float32 AKs(ocean_time, s_w, eta_rho, xi_rho)\n",
       "                  long_name: salinity vertical diffusion coefficient\n",
       "                  units: meter2 second-1\n",
       "                  time: ocean_time\n",
       "                  coordinates: lon_rho lat_rho s_w ocean_time\n",
       "                  field: AKs, scalar, series\n",
       "              unlimited dimensions: ocean_time\n",
       "              current shape = (1, 41, 381, 174)\n",
       "              filling off), ('Uwind', <class 'netCDF4._netCDF4.Variable'>\n",
       "              float32 Uwind(ocean_time, eta_rho, xi_rho)\n",
       "                  long_name: surface u-wind component\n",
       "                  units: meter second-1\n",
       "                  time: ocean_time\n",
       "                  coordinates: lon_rho lat_rho ocean_time\n",
       "                  field: u-wind, scalar, series\n",
       "                  _FillValue: 1e+37\n",
       "              unlimited dimensions: ocean_time\n",
       "              current shape = (1, 381, 174)\n",
       "              filling off), ('Vwind', <class 'netCDF4._netCDF4.Variable'>\n",
       "              float32 Vwind(ocean_time, eta_rho, xi_rho)\n",
       "                  long_name: surface v-wind component\n",
       "                  units: meter second-1\n",
       "                  time: ocean_time\n",
       "                  coordinates: lon_rho lat_rho ocean_time\n",
       "                  field: v-wind, scalar, series\n",
       "                  _FillValue: 1e+37\n",
       "              unlimited dimensions: ocean_time\n",
       "              current shape = (1, 381, 174)\n",
       "              filling off), ('shflux', <class 'netCDF4._netCDF4.Variable'>\n",
       "              float32 shflux(ocean_time, eta_rho, xi_rho)\n",
       "                  long_name: surface net heat flux\n",
       "                  units: watt meter-2\n",
       "                  negative_value: upward flux, cooling\n",
       "                  positive_value: downward flux, heating\n",
       "                  time: ocean_time\n",
       "                  coordinates: lon_rho lat_rho ocean_time\n",
       "                  field: surface heat flux, scalar, series\n",
       "                  _FillValue: 1e+37\n",
       "              unlimited dimensions: ocean_time\n",
       "              current shape = (1, 381, 174)\n",
       "              filling off), ('latent', <class 'netCDF4._netCDF4.Variable'>\n",
       "              float32 latent(ocean_time, eta_rho, xi_rho)\n",
       "                  long_name: net latent heat flux\n",
       "                  units: watt meter-2\n",
       "                  negative_value: upward flux, cooling\n",
       "                  positive_value: downward flux, heating\n",
       "                  time: ocean_time\n",
       "                  coordinates: lon_rho lat_rho ocean_time\n",
       "                  field: latent heat flux, scalar, series\n",
       "                  _FillValue: 1e+37\n",
       "              unlimited dimensions: ocean_time\n",
       "              current shape = (1, 381, 174)\n",
       "              filling off), ('sensible', <class 'netCDF4._netCDF4.Variable'>\n",
       "              float32 sensible(ocean_time, eta_rho, xi_rho)\n",
       "                  long_name: net sensible heat flux\n",
       "                  units: watt meter-2\n",
       "                  negative_value: upward flux, cooling\n",
       "                  positive_value: downward flux, heating\n",
       "                  time: ocean_time\n",
       "                  coordinates: lon_rho lat_rho ocean_time\n",
       "                  field: sensible heat flux, scalar, series\n",
       "                  _FillValue: 1e+37\n",
       "              unlimited dimensions: ocean_time\n",
       "              current shape = (1, 381, 174)\n",
       "              filling off), ('lwrad', <class 'netCDF4._netCDF4.Variable'>\n",
       "              float32 lwrad(ocean_time, eta_rho, xi_rho)\n",
       "                  long_name: net longwave radiation flux\n",
       "                  units: watt meter-2\n",
       "                  negative_value: upward flux, cooling\n",
       "                  positive_value: downward flux, heating\n",
       "                  time: ocean_time\n",
       "                  coordinates: lon_rho lat_rho ocean_time\n",
       "                  field: longwave radiation, scalar, series\n",
       "                  _FillValue: 1e+37\n",
       "              unlimited dimensions: ocean_time\n",
       "              current shape = (1, 381, 174)\n",
       "              filling off), ('swrad', <class 'netCDF4._netCDF4.Variable'>\n",
       "              float32 swrad(ocean_time, eta_rho, xi_rho)\n",
       "                  long_name: solar shortwave radiation flux\n",
       "                  units: watt meter-2\n",
       "                  negative_value: upward flux, cooling\n",
       "                  positive_value: downward flux, heating\n",
       "                  time: ocean_time\n",
       "                  coordinates: lon_rho lat_rho ocean_time\n",
       "                  field: shortwave radiation, scalar, series\n",
       "                  _FillValue: 1e+37\n",
       "              unlimited dimensions: ocean_time\n",
       "              current shape = (1, 381, 174)\n",
       "              filling off), ('sustr', <class 'netCDF4._netCDF4.Variable'>\n",
       "              float32 sustr(ocean_time, eta_u, xi_u)\n",
       "                  long_name: surface u-momentum stress\n",
       "                  units: newton meter-2\n",
       "                  time: ocean_time\n",
       "                  coordinates: lon_u lat_u ocean_time\n",
       "                  field: surface u-momentum stress, scalar, series\n",
       "                  _FillValue: 1e+37\n",
       "              unlimited dimensions: ocean_time\n",
       "              current shape = (1, 381, 173)\n",
       "              filling off), ('svstr', <class 'netCDF4._netCDF4.Variable'>\n",
       "              float32 svstr(ocean_time, eta_v, xi_v)\n",
       "                  long_name: surface v-momentum stress\n",
       "                  units: newton meter-2\n",
       "                  time: ocean_time\n",
       "                  coordinates: lon_v lat_v ocean_time\n",
       "                  field: surface v-momentum stress, scalar, series\n",
       "                  _FillValue: 1e+37\n",
       "              unlimited dimensions: ocean_time\n",
       "              current shape = (1, 380, 174)\n",
       "              filling off), ('bustr', <class 'netCDF4._netCDF4.Variable'>\n",
       "              float32 bustr(ocean_time, eta_u, xi_u)\n",
       "                  long_name: bottom u-momentum stress\n",
       "                  units: newton meter-2\n",
       "                  time: ocean_time\n",
       "                  coordinates: lon_u lat_u ocean_time\n",
       "                  field: bottom u-momentum stress, scalar, series\n",
       "                  _FillValue: 1e+37\n",
       "              unlimited dimensions: ocean_time\n",
       "              current shape = (1, 381, 173)\n",
       "              filling off), ('bvstr', <class 'netCDF4._netCDF4.Variable'>\n",
       "              float32 bvstr(ocean_time, eta_v, xi_v)\n",
       "                  long_name: bottom v-momentum stress\n",
       "                  units: newton meter-2\n",
       "                  time: ocean_time\n",
       "                  coordinates: lon_v lat_v ocean_time\n",
       "                  field: bottom v-momentum stress, scalar, series\n",
       "                  _FillValue: 1e+37\n",
       "              unlimited dimensions: ocean_time\n",
       "              current shape = (1, 380, 174)\n",
       "              filling off)])"
      ]
     },
     "execution_count": 3,
     "metadata": {},
     "output_type": "execute_result"
    }
   ],
   "source": [
    "f.variables"
   ]
  },
  {
   "cell_type": "markdown",
   "metadata": {},
   "source": [
    "Lots of output! I am interested in:\n",
    "* salt\n",
    "* temp (which is described as potential temperature)\n",
    "* lat_rho, lon_rho, mask_rho\n",
    "* pn, pm (1/DY, 1/DX)\n",
    "* ocean_time\n",
    "* s_rho, hc, Cs_r, Vtransform (vertical grid stuff: Parker sent some code for translating into a depth)\n",
    "* zeta (ssh)\n",
    "* h (bathymetry at rho points)\n",
    "\n",
    "Anything else?"
   ]
  },
  {
   "cell_type": "markdown",
   "metadata": {},
   "source": [
    "### Timing variables"
   ]
  },
  {
   "cell_type": "code",
   "execution_count": 4,
   "metadata": {
    "collapsed": false
   },
   "outputs": [
    {
     "data": {
      "text/plain": [
       "3.0"
      ]
     },
     "execution_count": 4,
     "metadata": {},
     "output_type": "execute_result"
    }
   ],
   "source": [
    "dt = f.variables['dt']\n",
    "ntimes = f.variables['ntimes']\n",
    "ntimes[:]*dt[:]/86400"
   ]
  },
  {
   "cell_type": "markdown",
   "metadata": {},
   "source": [
    "It appears as if this file was part of a three day simulation."
   ]
  },
  {
   "cell_type": "code",
   "execution_count": 5,
   "metadata": {
    "collapsed": false
   },
   "outputs": [
    {
     "data": {
      "text/plain": [
       "array([  1.46534760e+09])"
      ]
     },
     "execution_count": 5,
     "metadata": {},
     "output_type": "execute_result"
    }
   ],
   "source": [
    "ocean_time = f.variables['ocean_time']\n",
    "ocean_time[:]"
   ]
  },
  {
   "cell_type": "code",
   "execution_count": 6,
   "metadata": {
    "collapsed": false
   },
   "outputs": [
    {
     "data": {
      "text/plain": [
       "<class 'netCDF4._netCDF4.Variable'>\n",
       "float64 ocean_time(ocean_time)\n",
       "    long_name: time since initialization\n",
       "    units: seconds since 1970-01-01 00:00:00\n",
       "    calendar: gregorian\n",
       "    field: time, scalar, series\n",
       "unlimited dimensions: ocean_time\n",
       "current shape = (1,)\n",
       "filling off"
      ]
     },
     "execution_count": 6,
     "metadata": {},
     "output_type": "execute_result"
    }
   ],
   "source": [
    "ocean_time"
   ]
  },
  {
   "cell_type": "code",
   "execution_count": 7,
   "metadata": {
    "collapsed": false
   },
   "outputs": [
    {
     "data": {
      "text/plain": [
       "array([datetime.datetime(2016, 6, 8, 1, 0)], dtype=object)"
      ]
     },
     "execution_count": 7,
     "metadata": {},
     "output_type": "execute_result"
    }
   ],
   "source": [
    "time = nc.num2date(ocean_time[:], ocean_time.units)\n",
    "time"
   ]
  },
  {
   "cell_type": "markdown",
   "metadata": {},
   "source": [
    "It is fairly easy to grab the snap shot time using ocean_time and the nc.num2date method.\n",
    "\n",
    "### Surface plots of salinity"
   ]
  },
  {
   "cell_type": "code",
   "execution_count": 8,
   "metadata": {
    "collapsed": false
   },
   "outputs": [],
   "source": [
    "sal = f.variables['salt']\n",
    "lon_rho = f.variables['lon_rho']\n",
    "lat_rho = f.variables['lat_rho']\n",
    "s_rho = f.variables['s_rho']"
   ]
  },
  {
   "cell_type": "code",
   "execution_count": 9,
   "metadata": {
    "collapsed": false
   },
   "outputs": [
    {
     "data": {
      "text/plain": [
       "<class 'netCDF4._netCDF4.Variable'>\n",
       "float32 salt(ocean_time, s_rho, eta_rho, xi_rho)\n",
       "    long_name: salinity\n",
       "    time: ocean_time\n",
       "    coordinates: lon_rho lat_rho s_rho ocean_time\n",
       "    field: salinity, scalar, series\n",
       "    _FillValue: 1e+37\n",
       "unlimited dimensions: ocean_time\n",
       "current shape = (1, 40, 381, 174)\n",
       "filling off"
      ]
     },
     "execution_count": 9,
     "metadata": {},
     "output_type": "execute_result"
    }
   ],
   "source": [
    "sal"
   ]
  },
  {
   "cell_type": "code",
   "execution_count": 10,
   "metadata": {
    "collapsed": true
   },
   "outputs": [],
   "source": [
    "b = nc.Dataset('/data/nsoontie/MEOPAR/NEMO-forcing/grid/bathy_meter_SalishSea2.nc')"
   ]
  },
  {
   "cell_type": "code",
   "execution_count": 11,
   "metadata": {
    "collapsed": false
   },
   "outputs": [
    {
     "data": {
      "text/plain": [
       "[<matplotlib.lines.Line2D at 0x7f2ad9929940>]"
      ]
     },
     "execution_count": 11,
     "metadata": {},
     "output_type": "execute_result"
    },
    {
     "data": {
      "image/png": "[encoded data removed]",
      "text/plain": [
       "<matplotlib.figure.Figure at 0x7f2adbf32d68>"
      ]
     },
     "metadata": {},
     "output_type": "display_data"
    }
   ],
   "source": [
    "fig,ax=plt.subplots(1,1)\n",
    "mesh=ax.pcolormesh(lon_rho, lat_rho, sal[0,0,:,:])\n",
    "cbar=plt.colorbar(mesh,ax=ax)\n",
    "cbar.set_label('salinity')\n",
    "viz_tools.plot_coastline(ax,b,coords='map')\n",
    "iss = 55\n",
    "iee = 80\n",
    "jss = 295\n",
    "jee = 325\n",
    "ax.plot([lon_rho[jss,iss], lon_rho[jss,iee]],\n",
    "         [lat_rho[jss,iss], lat_rho[jss,iee]], '-k')\n",
    "ax.plot([lon_rho[jss,iss], lon_rho[jee,iss]],\n",
    "         [lat_rho[jss,iss], lat_rho[jee,iss]], '-k')\n",
    "ax.plot([lon_rho[jee,iss], lon_rho[jee,iee]],\n",
    "         [lat_rho[jee,iss], lat_rho[jee,iee]], '-k')\n",
    "ax.plot([lon_rho[jee,iee], lon_rho[jss,iee]],\n",
    "         [lat_rho[jee,iee], lat_rho[jss,iee]], '-k')"
   ]
  },
  {
   "cell_type": "code",
   "execution_count": 12,
   "metadata": {
    "collapsed": false
   },
   "outputs": [
    {
     "data": {
      "text/plain": [
       "(48.3, 48.9)"
      ]
     },
     "execution_count": 12,
     "metadata": {},
     "output_type": "execute_result"
    },
    {
     "data": {
      "image/png": "[encoded data removed]",
      "text/plain": [
       "<matplotlib.figure.Figure at 0x7f2adbf32710>"
      ]
     },
     "metadata": {},
     "output_type": "display_data"
    }
   ],
   "source": [
    "fig,ax=plt.subplots(1,1)\n",
    "mesh=ax.pcolormesh(lon_rho[jss:jee,iss:iee],\n",
    "               lat_rho[jss:jee,iss:iee],\n",
    "               sal[0,0,jss:jee,iss:iee])\n",
    "cbar=plt.colorbar(mesh,ax=ax)\n",
    "cbar.set_label('salinity')\n",
    "viz_tools.plot_coastline(ax,b,coords='map')\n",
    "ax.set_xlim([-125.1,-124.4])\n",
    "ax.set_ylim([48.3,48.9])"
   ]
  },
  {
   "cell_type": "markdown",
   "metadata": {},
   "source": [
    "### Bathymetry"
   ]
  },
  {
   "cell_type": "code",
   "execution_count": 13,
   "metadata": {
    "collapsed": false
   },
   "outputs": [
    {
     "data": {
      "text/plain": [
       "<class 'netCDF4._netCDF4.Variable'>\n",
       "float64 h(eta_rho, xi_rho)\n",
       "    long_name: bathymetry at RHO-points\n",
       "    units: meter\n",
       "    coordinates: lon_rho lat_rho\n",
       "    field: bath, scalar\n",
       "unlimited dimensions: \n",
       "current shape = (381, 174)\n",
       "filling off"
      ]
     },
     "execution_count": 13,
     "metadata": {},
     "output_type": "execute_result"
    }
   ],
   "source": [
    "h = f.variables['h']\n",
    "h"
   ]
  },
  {
   "cell_type": "code",
   "execution_count": 14,
   "metadata": {
    "collapsed": false
   },
   "outputs": [
    {
     "data": {
      "text/plain": [
       "[<matplotlib.lines.Line2D at 0x7f2ad92f9be0>]"
      ]
     },
     "execution_count": 14,
     "metadata": {},
     "output_type": "execute_result"
    },
    {
     "data": {
      "image/png": "[encoded data removed]",
      "text/plain": [
       "<matplotlib.figure.Figure at 0x7f2ad93deeb8>"
      ]
     },
     "metadata": {},
     "output_type": "display_data"
    }
   ],
   "source": [
    "fig,ax=plt.subplots(1,1)\n",
    "mesh=ax.pcolormesh(lon_rho, lat_rho, h,vmin=0,vmax=300)\n",
    "cbar=plt.colorbar(mesh,ax=ax)\n",
    "cbar.set_label('bathy [m]')\n",
    "viz_tools.plot_coastline(ax,b,coords='map')\n",
    "ax.plot([lon_rho[jss,iss], lon_rho[jss,iee]],\n",
    "         [lat_rho[jss,iss], lat_rho[jss,iee]], '-w')\n",
    "ax.plot([lon_rho[jss,iss], lon_rho[jee,iss]],\n",
    "         [lat_rho[jss,iss], lat_rho[jee,iss]], '-w')\n",
    "ax.plot([lon_rho[jee,iss], lon_rho[jee,iee]],\n",
    "         [lat_rho[jee,iss], lat_rho[jee,iee]], '-w')\n",
    "ax.plot([lon_rho[jee,iee], lon_rho[jss,iee]],\n",
    "         [lat_rho[jee,iee], lat_rho[jss,iee]], '-w')"
   ]
  },
  {
   "cell_type": "code",
   "execution_count": 15,
   "metadata": {
    "collapsed": false
   },
   "outputs": [
    {
     "data": {
      "text/plain": [
       "(48.3, 48.9)"
      ]
     },
     "execution_count": 15,
     "metadata": {},
     "output_type": "execute_result"
    },
    {
     "data": {
      "image/png": "[encoded data removed]",
      "text/plain": [
       "<matplotlib.figure.Figure at 0x7f2adbf22d30>"
      ]
     },
     "metadata": {},
     "output_type": "display_data"
    }
   ],
   "source": [
    "fig,ax=plt.subplots(1,1)\n",
    "mesh=ax.pcolormesh(lon_rho[jss:jee,iss:iee],\n",
    "               lat_rho[jss:jee,iss:iee],\n",
    "               h[jss:jee,iss:iee])\n",
    "cbar=plt.colorbar(mesh,ax=ax)\n",
    "cbar.set_label('bathy [m]')\n",
    "viz_tools.plot_coastline(ax,b,coords='map')\n",
    "ax.set_xlim([-125.1,-124.4])\n",
    "ax.set_ylim([48.3,48.9])"
   ]
  },
  {
   "cell_type": "markdown",
   "metadata": {},
   "source": [
    "This region looks reasonable. I need to go in the mouth a little bit because our BCs cover the first 10 grid points. \n",
    "\n",
    "### What's next?\n",
    "* What frequency is appropriate? We can have access to hourly snapshots.\n",
    "* Develop some scripts that would extract this region and the variables I want. Python or bash?"
   ]
  },
  {
   "cell_type": "markdown",
   "metadata": {
    "collapsed": true
   },
   "source": [
    "## Check out sudomain file"
   ]
  },
  {
   "cell_type": "code",
   "execution_count": 16,
   "metadata": {
    "collapsed": false
   },
   "outputs": [
    {
     "data": {
      "text/plain": [
       "OrderedDict([('salt', <class 'netCDF4._netCDF4.Variable'>\n",
       "              float32 salt(ocean_time, s_rho, eta_rho, xi_rho)\n",
       "                  _FillValue: 1e+37\n",
       "                  time: ocean_time\n",
       "                  field: salinity, scalar, series\n",
       "                  long_name: salinity\n",
       "                  coordinates: lon_rho lat_rho s_rho ocean_time\n",
       "              unlimited dimensions: ocean_time\n",
       "              current shape = (1, 40, 31, 26)\n",
       "              filling on), ('temp', <class 'netCDF4._netCDF4.Variable'>\n",
       "              float32 temp(ocean_time, s_rho, eta_rho, xi_rho)\n",
       "                  units: Celsius\n",
       "                  _FillValue: 1e+37\n",
       "                  time: ocean_time\n",
       "                  coordinates: lon_rho lat_rho s_rho ocean_time\n",
       "                  long_name: potential temperature\n",
       "                  field: temperature, scalar, series\n",
       "              unlimited dimensions: ocean_time\n",
       "              current shape = (1, 40, 31, 26)\n",
       "              filling on), ('h', <class 'netCDF4._netCDF4.Variable'>\n",
       "              float64 h(eta_rho, xi_rho)\n",
       "                  units: meter\n",
       "                  field: bath, scalar\n",
       "                  long_name: bathymetry at RHO-points\n",
       "                  coordinates: lon_rho lat_rho\n",
       "              unlimited dimensions: \n",
       "              current shape = (31, 26)\n",
       "              filling on, default _FillValue of 9.969209968386869e+36 used), ('lon_rho',\n",
       "              <class 'netCDF4._netCDF4.Variable'>\n",
       "              float64 lon_rho(eta_rho, xi_rho)\n",
       "                  units: degree_east\n",
       "                  field: lon_rho, scalar\n",
       "                  long_name: longitude of RHO-points\n",
       "                  standard_name: longitude\n",
       "              unlimited dimensions: \n",
       "              current shape = (31, 26)\n",
       "              filling on, default _FillValue of 9.969209968386869e+36 used), ('lat_rho',\n",
       "              <class 'netCDF4._netCDF4.Variable'>\n",
       "              float64 lat_rho(eta_rho, xi_rho)\n",
       "                  units: degree_north\n",
       "                  field: lat_rho, scalar\n",
       "                  long_name: latitude of RHO-points\n",
       "                  standard_name: latitude\n",
       "              unlimited dimensions: \n",
       "              current shape = (31, 26)\n",
       "              filling on, default _FillValue of 9.969209968386869e+36 used), ('mask_rho',\n",
       "              <class 'netCDF4._netCDF4.Variable'>\n",
       "              float64 mask_rho(eta_rho, xi_rho)\n",
       "                  flag_values: [ 0.  1.]\n",
       "                  flag_meanings: land water\n",
       "                  long_name: mask on RHO-points\n",
       "                  coordinates: lon_rho lat_rho\n",
       "              unlimited dimensions: \n",
       "              current shape = (31, 26)\n",
       "              filling on, default _FillValue of 9.969209968386869e+36 used), ('pn',\n",
       "              <class 'netCDF4._netCDF4.Variable'>\n",
       "              float64 pn(eta_rho, xi_rho)\n",
       "                  units: meter-1\n",
       "                  field: pn, scalar\n",
       "                  long_name: curvilinear coordinate metric in ETA\n",
       "                  coordinates: lon_rho lat_rho\n",
       "              unlimited dimensions: \n",
       "              current shape = (31, 26)\n",
       "              filling on, default _FillValue of 9.969209968386869e+36 used), ('pm',\n",
       "              <class 'netCDF4._netCDF4.Variable'>\n",
       "              float64 pm(eta_rho, xi_rho)\n",
       "                  units: meter-1\n",
       "                  field: pm, scalar\n",
       "                  long_name: curvilinear coordinate metric in XI\n",
       "                  coordinates: lon_rho lat_rho\n",
       "              unlimited dimensions: \n",
       "              current shape = (31, 26)\n",
       "              filling on, default _FillValue of 9.969209968386869e+36 used), ('s_rho',\n",
       "              <class 'netCDF4._netCDF4.Variable'>\n",
       "              float64 s_rho(s_rho)\n",
       "                  positive: up\n",
       "                  formula_terms: s: s_rho C: Cs_r eta: zeta depth: h depth_c: hc\n",
       "                  valid_min: -1.0\n",
       "                  long_name: S-coordinate at RHO-points\n",
       "                  field: s_rho, scalar\n",
       "                  valid_max: 0.0\n",
       "                  standard_name: ocean_s_coordinate_g1\n",
       "              unlimited dimensions: \n",
       "              current shape = (40,)\n",
       "              filling on, default _FillValue of 9.969209968386869e+36 used), ('hc',\n",
       "              <class 'netCDF4._netCDF4.Variable'>\n",
       "              float64 hc()\n",
       "                  units: meter\n",
       "                  long_name: S-coordinate parameter, critical depth\n",
       "              unlimited dimensions: \n",
       "              current shape = ()\n",
       "              filling on, default _FillValue of 9.969209968386869e+36 used), ('Cs_r',\n",
       "              <class 'netCDF4._netCDF4.Variable'>\n",
       "              float64 Cs_r(s_rho)\n",
       "                  field: Cs_r, scalar\n",
       "                  long_name: S-coordinate stretching curves at RHO-points\n",
       "                  valid_min: -1.0\n",
       "                  valid_max: 0.0\n",
       "              unlimited dimensions: \n",
       "              current shape = (40,)\n",
       "              filling on, default _FillValue of 9.969209968386869e+36 used), ('Vtransform',\n",
       "              <class 'netCDF4._netCDF4.Variable'>\n",
       "              int32 Vtransform()\n",
       "                  long_name: vertical terrain-following transformation equation\n",
       "              unlimited dimensions: \n",
       "              current shape = ()\n",
       "              filling on, default _FillValue of -2147483647 used), ('zeta',\n",
       "              <class 'netCDF4._netCDF4.Variable'>\n",
       "              float32 zeta(ocean_time, eta_rho, xi_rho)\n",
       "                  units: meter\n",
       "                  _FillValue: 1e+37\n",
       "                  time: ocean_time\n",
       "                  coordinates: lon_rho lat_rho ocean_time\n",
       "                  long_name: free-surface\n",
       "                  field: free-surface, scalar, series\n",
       "              unlimited dimensions: ocean_time\n",
       "              current shape = (1, 31, 26)\n",
       "              filling on), ('ocean_time', <class 'netCDF4._netCDF4.Variable'>\n",
       "              float64 ocean_time(ocean_time)\n",
       "                  units: seconds since 1970-01-01 00:00:00\n",
       "                  field: time, scalar, series\n",
       "                  long_name: time since initialization\n",
       "                  calendar: gregorian\n",
       "              unlimited dimensions: ocean_time\n",
       "              current shape = (1,)\n",
       "              filling on, default _FillValue of 9.969209968386869e+36 used)])"
      ]
     },
     "execution_count": 16,
     "metadata": {},
     "output_type": "execute_result"
    }
   ],
   "source": [
    "f2 = nc.Dataset('/data/nsoontie/MEOPAR/LiveOcean/20160608/ocean_his_0002_UBC.nc')\n",
    "f2.variables"
   ]
  },
  {
   "cell_type": "code",
   "execution_count": 17,
   "metadata": {
    "collapsed": false
   },
   "outputs": [
    {
     "data": {
      "text/plain": [
       "array([datetime.datetime(2016, 6, 8, 1, 0)], dtype=object)"
      ]
     },
     "execution_count": 17,
     "metadata": {},
     "output_type": "execute_result"
    }
   ],
   "source": [
    "ocean_time2 = f2.variables['ocean_time']\n",
    "time2 = nc.num2date(ocean_time2[:], ocean_time2.units)\n",
    "time2"
   ]
  },
  {
   "cell_type": "code",
   "execution_count": 18,
   "metadata": {
    "collapsed": true
   },
   "outputs": [],
   "source": [
    "sal2 = f2.variables['salt']\n",
    "lon_rho2 = f2.variables['lon_rho']\n",
    "lat_rho2 = f2.variables['lat_rho']\n",
    "s_rho2 = f2.variables['s_rho']"
   ]
  },
  {
   "cell_type": "code",
   "execution_count": 19,
   "metadata": {
    "collapsed": false
   },
   "outputs": [
    {
     "data": {
      "text/plain": [
       "<class 'netCDF4._netCDF4.Variable'>\n",
       "float32 salt(ocean_time, s_rho, eta_rho, xi_rho)\n",
       "    _FillValue: 1e+37\n",
       "    time: ocean_time\n",
       "    field: salinity, scalar, series\n",
       "    long_name: salinity\n",
       "    coordinates: lon_rho lat_rho s_rho ocean_time\n",
       "unlimited dimensions: ocean_time\n",
       "current shape = (1, 40, 31, 26)\n",
       "filling on"
      ]
     },
     "execution_count": 19,
     "metadata": {},
     "output_type": "execute_result"
    }
   ],
   "source": [
    "sal2"
   ]
  },
  {
   "cell_type": "code",
   "execution_count": 20,
   "metadata": {
    "collapsed": false
   },
   "outputs": [
    {
     "data": {
      "text/plain": [
       "<class 'netCDF4._netCDF4.Variable'>\n",
       "float32 salt(ocean_time, s_rho, eta_rho, xi_rho)\n",
       "    long_name: salinity\n",
       "    time: ocean_time\n",
       "    coordinates: lon_rho lat_rho s_rho ocean_time\n",
       "    field: salinity, scalar, series\n",
       "    _FillValue: 1e+37\n",
       "unlimited dimensions: ocean_time\n",
       "current shape = (1, 40, 381, 174)\n",
       "filling off"
      ]
     },
     "execution_count": 20,
     "metadata": {},
     "output_type": "execute_result"
    }
   ],
   "source": [
    "sal"
   ]
  },
  {
   "cell_type": "code",
   "execution_count": 21,
   "metadata": {
    "collapsed": false
   },
   "outputs": [
    {
     "data": {
      "text/plain": [
       "(48.3, 48.9)"
      ]
     },
     "execution_count": 21,
     "metadata": {},
     "output_type": "execute_result"
    },
    {
     "data": {
      "image/png": "[encoded data removed]",
      "text/plain": [
       "<matplotlib.figure.Figure at 0x7f2ad925ac50>"
      ]
     },
     "metadata": {},
     "output_type": "display_data"
    }
   ],
   "source": [
    "fig,ax=plt.subplots(1,1)\n",
    "mesh=ax.pcolormesh(lon_rho2, lat_rho2, sal2[0,0,:,:])\n",
    "cbar=plt.colorbar(mesh,ax=ax)\n",
    "cbar.set_label('salinity')\n",
    "viz_tools.plot_coastline(ax,b,coords='map')\n",
    "ax.set_xlim([-125,-124.4])\n",
    "ax.set_ylim([48.3,48.9])"
   ]
  },
  {
   "cell_type": "code",
   "execution_count": null,
   "metadata": {
    "collapsed": true
   },
   "outputs": [],
   "source": []
  }
 ],
 "metadata": {
  "kernelspec": {
   "display_name": "Python 3",
   "language": "python",
   "name": "python3"
  },
  "language_info": {
   "codemirror_mode": {
    "name": "ipython",
    "version": 3
   },
   "file_extension": ".py",
   "mimetype": "text/x-python",
   "name": "python",
   "nbconvert_exporter": "python",
   "pygments_lexer": "ipython3",
   "version": "3.5.2"
  }
 },
 "nbformat": 4,
 "nbformat_minor": 0
}
