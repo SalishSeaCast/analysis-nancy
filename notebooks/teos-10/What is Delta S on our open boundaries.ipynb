{
 "cells": [
  {
   "cell_type": "markdown",
   "metadata": {},
   "source": [
    "This notebook is to decide $S_A = S_{ref}$ is a good approximation along our open boundary."
   ]
  },
  {
   "cell_type": "code",
   "execution_count": 8,
   "metadata": {
    "collapsed": false
   },
   "outputs": [],
   "source": [
    "import numpy as np\n",
    "import netCDF4 as nc\n",
    "\n",
    "import os\n",
    "import subprocess as sp"
   ]
  },
  {
   "cell_type": "markdown",
   "metadata": {},
   "source": [
    "I want to check if, along our open boundary, $\\delta S ~=0$  by the gsw standards.  Right now, we are using reference salinity.\n",
    "\n",
    "Recall, $S_A = S_{ref} + \\delta S$\n",
    "\n",
    "The TEOS-10 primer says that in coastal areas where $\\delta S$ is unknown, it is appopriate to use $\\delta S=0$. That was also suggested to me in an email from Rich."
   ]
  },
  {
   "cell_type": "code",
   "execution_count": 9,
   "metadata": {
    "collapsed": false
   },
   "outputs": [],
   "source": [
    "f = nc.Dataset('/data/nsoontie/MEOPAR/NEMO-forcing/open_boundaries/west/SalishSea2_Masson_corrected.nc')\n",
    "sal_pract = f.variables['vosaline'][:]\n",
    "temp_pot = f.variables['votemper'][:]\n",
    "dep = np.expand_dims(np.expand_dims(np.expand_dims(f.variables['deptht'][:],axis=0),axis=2),axis=3) \\\n",
    "         + np.zeros(sal_pract.shape)\n",
    "long = f.variables['nav_lon'][:] + np.zeros(sal_pract.shape)\n",
    "lat = f.variables['nav_lat'][:] + np.zeros(sal_pract.shape)"
   ]
  },
  {
   "cell_type": "code",
   "execution_count": 10,
   "metadata": {
    "collapsed": true
   },
   "outputs": [],
   "source": [
    "f = nc.Dataset('/data/nsoontie/MEOPAR/NEMO-forcing/open_boundaries/west/SalishSea_west_TEOS10.nc')\n",
    "sal_ref = f.variables['vosaline'][:]"
   ]
  },
  {
   "cell_type": "code",
   "execution_count": 11,
   "metadata": {
    "collapsed": false
   },
   "outputs": [],
   "source": [
    "def call_p_from_z(z, lat):\n",
    "    \n",
    "    fname = \"'pout'\"\n",
    "    zfile= \"'zfile'\"\n",
    "    latfile = \"'latfile'\"\n",
    "    for f, var in zip([zfile, latfile], [z, lat]):\n",
    "        np.savetxt(f[1:-1],var.flatten(), delimiter=',')\n",
    "    shape = z.shape\n",
    "    \n",
    "    functioncall = 'mw_gsw_p_from_z({},{},{});exit'.format(fname, zfile, latfile)\n",
    "    cmd = [\"matlab\", \"-nodesktop\", \"-nodisplay\", \"-r\", functioncall]\n",
    "    sp.run(cmd)\n",
    "    pressure = np.loadtxt(fname[1:-1], delimiter=',')\n",
    "    \n",
    "    for f in [fname[1:-1], zfile[1:-1], latfile[1:-1]]:\n",
    "        os.remove(f)\n",
    "    \n",
    "    return pressure.reshape(shape)"
   ]
  },
  {
   "cell_type": "code",
   "execution_count": 12,
   "metadata": {
    "collapsed": false
   },
   "outputs": [],
   "source": [
    "p = call_p_from_z(-dep, lat)"
   ]
  },
  {
   "cell_type": "code",
   "execution_count": 13,
   "metadata": {
    "collapsed": false
   },
   "outputs": [],
   "source": [
    "def call_SA_from_SP(SP, p, long, lat ):\n",
    "    \n",
    "    fname =\"'SAout'\"\n",
    "    SPfile= \"'SPfile'\"\n",
    "    pfile = \"'pfile'\"\n",
    "    longfile = \"'longfile'\"\n",
    "    latfile = \"'latfile'\"\n",
    "    for f, var in zip([SPfile, pfile, longfile, latfile],\n",
    "                       [SP, p, long, lat]):\n",
    "        np.savetxt(f[1:-1],var.flatten(), delimiter=',')\n",
    "    shape = SP.shape\n",
    "    \n",
    "    functioncall = 'mw_gsw_SA_from_SP({},{},{},{},{});exit'.format(fname, SPfile, pfile, longfile, latfile)\n",
    "    cmd = [\"matlab\", \"-nodesktop\", \"-nodisplay\", \"-r\", functioncall]\n",
    "    sp.run(cmd)\n",
    "    SA = np.loadtxt(fname[1:-1], delimiter=',')\n",
    "    \n",
    "    for f in [fname[1:-1], SPfile[1:-1], pfile[1:-1], longfile[1:-1], latfile[1:-1]]:\n",
    "        os.remove(f)\n",
    "    \n",
    "    return SA.reshape(shape)"
   ]
  },
  {
   "cell_type": "code",
   "execution_count": 14,
   "metadata": {
    "collapsed": false
   },
   "outputs": [],
   "source": [
    "sal_abs = call_SA_from_SP(sal_pract, p, long, lat)"
   ]
  },
  {
   "cell_type": "code",
   "execution_count": 15,
   "metadata": {
    "collapsed": true
   },
   "outputs": [],
   "source": [
    "import matplotlib.pyplot as plt\n",
    "%matplotlib inline"
   ]
  },
  {
   "cell_type": "code",
   "execution_count": 16,
   "metadata": {
    "collapsed": false
   },
   "outputs": [
    {
     "data": {
      "text/plain": [
       "<matplotlib.text.Text at 0x7f48667b41d0>"
      ]
     },
     "execution_count": 16,
     "metadata": {},
     "output_type": "execute_result"
    },
    {
     "data": {
      "image/png": "[encoded data removed]",
      "text/plain": [
       "<matplotlib.figure.Figure at 0x7f486800be10>"
      ]
     },
     "metadata": {},
     "output_type": "display_data"
    }
   ],
   "source": [
    "dS = sal_abs-sal_ref\n",
    "plt.hist(dS.flatten())\n",
    "plt.xlabel('$\\delta S$')\n",
    "plt.ylabel('number of occurences')"
   ]
  },
  {
   "cell_type": "code",
   "execution_count": 17,
   "metadata": {
    "collapsed": false
   },
   "outputs": [
    {
     "data": {
      "text/plain": [
       "<matplotlib.text.Text at 0x7f4860c81048>"
      ]
     },
     "execution_count": 17,
     "metadata": {},
     "output_type": "execute_result"
    },
    {
     "data": {
      "image/png": "[encoded data removed]",
      "text/plain": [
       "<matplotlib.figure.Figure at 0x7f4860c96278>"
      ]
     },
     "metadata": {},
     "output_type": "display_data"
    }
   ],
   "source": [
    "plt.boxplot(dS.flatten())\n",
    "plt.ylabel('$\\delta S$')"
   ]
  },
  {
   "cell_type": "markdown",
   "metadata": {},
   "source": [
    "This is probably not very significant but we might as well convert the files to absolute salinity instead of reference salinity.\n",
    "\n",
    "Or is it easier to just quote we used $\\delta S = 0$?\n",
    "\n",
    "Ok, now use my module to test conservatice temperature."
   ]
  },
  {
   "cell_type": "code",
   "execution_count": 18,
   "metadata": {
    "collapsed": true
   },
   "outputs": [],
   "source": [
    "import gsw_calls"
   ]
  },
  {
   "cell_type": "code",
   "execution_count": 20,
   "metadata": {
    "collapsed": false
   },
   "outputs": [],
   "source": [
    "CT = gsw_calls.call_CT_from_PT(sal_abs, temp_pot)"
   ]
  },
  {
   "cell_type": "code",
   "execution_count": 28,
   "metadata": {
    "collapsed": false
   },
   "outputs": [
    {
     "data": {
      "text/plain": [
       "(array([ 437682.,  173364.,   94419.,   94391.,  119058.,  180647.,\n",
       "         302866.,  279873.,  111758.,   15542.]),\n",
       " array([ 0.00708202,  0.01536348,  0.02364494,  0.03192639,  0.04020785,\n",
       "         0.04848931,  0.05677077,  0.06505223,  0.07333369,  0.08161515,\n",
       "         0.08989661]),\n",
       " <a list of 10 Patch objects>)"
      ]
     },
     "execution_count": 28,
     "metadata": {},
     "output_type": "execute_result"
    },
    {
     "data": {
      "image/png": "[encoded data removed]",
      "text/plain": [
       "<matplotlib.figure.Figure at 0x7f486a7942b0>"
      ]
     },
     "metadata": {},
     "output_type": "display_data"
    }
   ],
   "source": [
    "diff=CT-temp_pot\n",
    "plt.hist(diff.flatten())"
   ]
  },
  {
   "cell_type": "markdown",
   "metadata": {},
   "source": [
    "Looks like the differences aren't super big for boundary."
   ]
  },
  {
   "cell_type": "code",
   "execution_count": null,
   "metadata": {
    "collapsed": true
   },
   "outputs": [],
   "source": []
  }
 ],
 "metadata": {
  "kernelspec": {
   "display_name": "Python 3",
   "language": "python",
   "name": "python3"
  },
  "language_info": {
   "codemirror_mode": {
    "name": "ipython",
    "version": 3
   },
   "file_extension": ".py",
   "mimetype": "text/x-python",
   "name": "python",
   "nbconvert_exporter": "python",
   "pygments_lexer": "ipython3",
   "version": "3.5.1"
  }
 },
 "nbformat": 4,
 "nbformat_minor": 0
}
