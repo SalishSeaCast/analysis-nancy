{
 "cells": [
  {
   "cell_type": "markdown",
   "metadata": {},
   "source": [
    "This notebook is to decide $S_A = S_{ref}$ is a good approximation along our open boundary."
   ]
  },
  {
   "cell_type": "code",
   "execution_count": 1,
   "metadata": {
    "collapsed": false
   },
   "outputs": [],
   "source": [
    "import numpy as np\n",
    "import netCDF4 as nc\n",
    "\n",
    "import os\n",
    "import subprocess as sp\n",
    "\n",
    "import sys\n",
    "sys.path.append('/data/nsoontie/MEOPAR/tools/I_ForcingFiles/OBC/')\n",
    "import gsw_calls"
   ]
  },
  {
   "cell_type": "markdown",
   "metadata": {},
   "source": [
    "I want to check if, along our open boundary, $\\delta S ~=0$  by the gsw standards.  Right now, we are using reference salinity.\n",
    "\n",
    "Recall, $S_A = S_{ref} + \\delta S$\n",
    "\n",
    "The TEOS-10 primer says that in coastal areas where $\\delta S$ is unknown, it is appopriate to use $\\delta S=0$. That was also suggested to me in an email from Rich.\n",
    "\n",
    "**Note**: Matlab wrappers are linked in this directory. They are under version control in tools/I_ForcingFiles/OBC"
   ]
  },
  {
   "cell_type": "code",
   "execution_count": 2,
   "metadata": {
    "collapsed": false
   },
   "outputs": [],
   "source": [
    "f = nc.Dataset('/data/nsoontie/MEOPAR/NEMO-forcing/open_boundaries/west/SalishSea2_Masson_corrected.nc')\n",
    "sal_pract = f.variables['vosaline'][:]\n",
    "temp_pot = f.variables['votemper'][:]\n",
    "dep = np.expand_dims(np.expand_dims(np.expand_dims(f.variables['deptht'][:],axis=0),axis=2),axis=3) \\\n",
    "         + np.zeros(sal_pract.shape)\n",
    "long = f.variables['nav_lon'][:] + np.zeros(sal_pract.shape)\n",
    "lat = f.variables['nav_lat'][:] + np.zeros(sal_pract.shape)"
   ]
  },
  {
   "cell_type": "code",
   "execution_count": 3,
   "metadata": {
    "collapsed": false
   },
   "outputs": [],
   "source": [
    "f = nc.Dataset('/data/nsoontie/MEOPAR/NEMO-forcing/open_boundaries/west/SalishSea_west_TEOS10.nc')\n",
    "sal_ref = f.variables['vosaline'][:]"
   ]
  },
  {
   "cell_type": "code",
   "execution_count": 4,
   "metadata": {
    "collapsed": false
   },
   "outputs": [],
   "source": [
    "p = gsw_calls.call_p_from_z(-dep, lat)"
   ]
  },
  {
   "cell_type": "code",
   "execution_count": 5,
   "metadata": {
    "collapsed": false
   },
   "outputs": [],
   "source": [
    "sal_abs = gsw_calls.call_SA_from_SP(sal_pract, p, long, lat)"
   ]
  },
  {
   "cell_type": "markdown",
   "metadata": {},
   "source": [
    "# Absolute Salinity vs Practical Salinity"
   ]
  },
  {
   "cell_type": "code",
   "execution_count": 6,
   "metadata": {
    "collapsed": true
   },
   "outputs": [],
   "source": [
    "import matplotlib.pyplot as plt\n",
    "%matplotlib inline"
   ]
  },
  {
   "cell_type": "code",
   "execution_count": 7,
   "metadata": {
    "collapsed": false
   },
   "outputs": [
    {
     "data": {
      "text/plain": [
       "<matplotlib.text.Text at 0x7ff2dd22da20>"
      ]
     },
     "execution_count": 7,
     "metadata": {},
     "output_type": "execute_result"
    },
    {
     "data": {
      "image/png": "[encoded data removed]",
      "text/plain": [
       "<matplotlib.figure.Figure at 0x7ff2dd1fc5f8>"
      ]
     },
     "metadata": {},
     "output_type": "display_data"
    }
   ],
   "source": [
    "dS = sal_abs-sal_ref\n",
    "plt.hist(dS.flatten())\n",
    "plt.xlabel('$\\delta S$')\n",
    "plt.ylabel('number of occurences')"
   ]
  },
  {
   "cell_type": "code",
   "execution_count": 8,
   "metadata": {
    "collapsed": false
   },
   "outputs": [
    {
     "data": {
      "text/plain": [
       "<matplotlib.text.Text at 0x7ff2da8b20f0>"
      ]
     },
     "execution_count": 8,
     "metadata": {},
     "output_type": "execute_result"
    },
    {
     "data": {
      "image/png": "[encoded data removed]",
      "text/plain": [
       "<matplotlib.figure.Figure at 0x7ff2da8a75f8>"
      ]
     },
     "metadata": {},
     "output_type": "display_data"
    }
   ],
   "source": [
    "plt.boxplot(dS.flatten())\n",
    "plt.ylabel('$\\delta S$')"
   ]
  },
  {
   "cell_type": "markdown",
   "metadata": {},
   "source": [
    "This is probably not very significant. We've decided to use $\\delta S = 0$. \n",
    "\n",
    "# Conservative Temperature vs Potential Temperature"
   ]
  },
  {
   "cell_type": "code",
   "execution_count": 9,
   "metadata": {
    "collapsed": false
   },
   "outputs": [],
   "source": [
    "CT = gsw_calls.call_CT_from_PT(sal_abs, temp_pot)"
   ]
  },
  {
   "cell_type": "code",
   "execution_count": 10,
   "metadata": {
    "collapsed": false
   },
   "outputs": [
    {
     "data": {
      "text/plain": [
       "<matplotlib.text.Text at 0x7ff2da880160>"
      ]
     },
     "execution_count": 10,
     "metadata": {},
     "output_type": "execute_result"
    },
    {
     "data": {
      "image/png": "[encoded data removed]",
      "text/plain": [
       "<matplotlib.figure.Figure at 0x7ff2da7374e0>"
      ]
     },
     "metadata": {},
     "output_type": "display_data"
    }
   ],
   "source": [
    "diff=CT-temp_pot\n",
    "plt.hist(diff.flatten())\n",
    "plt.ylabel(('Conservative - Potential, deg C'))"
   ]
  },
  {
   "cell_type": "markdown",
   "metadata": {},
   "source": [
    "Looks like the differences aren't super big for boundary.\n",
    "\n",
    "# Matlab Reference Salinity vs ours\n",
    "\n",
    "Note: This comparison wes performed before the boundary files were overwritten."
   ]
  },
  {
   "cell_type": "code",
   "execution_count": 16,
   "metadata": {
    "collapsed": true
   },
   "outputs": [],
   "source": [
    "def call_SR_from_SP(SP):\n",
    "    \n",
    "    fname =\"'SRout'\"\n",
    "    SPfile= \"'SPfile'\"\n",
    "    for f, var in zip([SPfile,],\n",
    "                       [SP,]):\n",
    "        np.savetxt(f[1:-1],var.flatten(), delimiter=',')\n",
    "    shape = SP.shape\n",
    "    \n",
    "    functioncall = 'mw_gsw_SR_from_SP({},{});exit'.format(fname, SPfile)\n",
    "    cmd = [\"matlab\", \"-nodesktop\", \"-nodisplay\", \"-r\", functioncall]\n",
    "    sp.run(cmd)\n",
    "    SR = np.loadtxt(fname[1:-1], delimiter=',')\n",
    "    \n",
    "    for f in [fname, SPfile]:\n",
    "        os.remove(f[1:-1])\n",
    "    \n",
    "    return SR.reshape(shape)"
   ]
  },
  {
   "cell_type": "code",
   "execution_count": 19,
   "metadata": {
    "collapsed": false
   },
   "outputs": [
    {
     "data": {
      "text/plain": [
       "<matplotlib.text.Text at 0x7f7864b9c898>"
      ]
     },
     "execution_count": 19,
     "metadata": {},
     "output_type": "execute_result"
    },
    {
     "data": {
      "image/png": "[encoded data removed]",
      "text/plain": [
       "<matplotlib.figure.Figure at 0x7f7864bba198>"
      ]
     },
     "metadata": {},
     "output_type": "display_data"
    }
   ],
   "source": [
    "sal_ref_matlab = call_SR_from_SP(sal_pract)\n",
    "diff = sal_ref_matlab - sal_ref\n",
    "plt.hist(diff.flatten())\n",
    "plt.ylabel('MAtlab ref Salinity - ours, g/kg')"
   ]
  },
  {
   "cell_type": "code",
   "execution_count": null,
   "metadata": {
    "collapsed": true
   },
   "outputs": [],
   "source": []
  }
 ],
 "metadata": {
  "kernelspec": {
   "display_name": "Python 3",
   "language": "python",
   "name": "python3"
  },
  "language_info": {
   "codemirror_mode": {
    "name": "ipython",
    "version": 3
   },
   "file_extension": ".py",
   "mimetype": "text/x-python",
   "name": "python",
   "nbconvert_exporter": "python",
   "pygments_lexer": "ipython3",
   "version": "3.5.2"
  }
 },
 "nbformat": 4,
 "nbformat_minor": 0
}
